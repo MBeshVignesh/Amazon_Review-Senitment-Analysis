{
 "cells": [
  {
   "cell_type": "code",
   "execution_count": 1,
   "metadata": {},
   "outputs": [],
   "source": [
    "import pandas as pd\n",
    "import numpy as np\n",
    "import matplotlib.pyplot as plt\n",
    "import seaborn as sns\n",
    "import os\n",
    "import re\n",
    "import pickle\n",
    "from multiprocessing import Pool\n",
    "%matplotlib inline\n",
    "import warnings\n",
    "warnings.filterwarnings('ignore')\n"
   ]
  },
  {
   "cell_type": "code",
   "execution_count": 2,
   "metadata": {},
   "outputs": [],
   "source": [
    "#NLTK Packages\n",
    "import nltk\n",
    "from nltk import word_tokenize\n",
    "from wordcloud import WordCloud\n",
    "from sklearn.feature_extraction.text import CountVectorizer\n",
    "from sklearn.feature_extraction.text import TfidfVectorizer\n",
    "from nltk.corpus import stopwords  "
   ]
  },
  {
   "cell_type": "code",
   "execution_count": 3,
   "metadata": {},
   "outputs": [],
   "source": [
    "with open('picklefile/data_preprocessing.pickle', 'rb') as data:\n",
    "    data_set = pickle.load(data)"
   ]
  },
  {
   "cell_type": "code",
   "execution_count": 4,
   "metadata": {},
   "outputs": [
    {
     "data": {
      "text/html": [
       "<div>\n",
       "<style scoped>\n",
       "    .dataframe tbody tr th:only-of-type {\n",
       "        vertical-align: middle;\n",
       "    }\n",
       "\n",
       "    .dataframe tbody tr th {\n",
       "        vertical-align: top;\n",
       "    }\n",
       "\n",
       "    .dataframe thead th {\n",
       "        text-align: right;\n",
       "    }\n",
       "</style>\n",
       "<table border=\"1\" class=\"dataframe\">\n",
       "  <thead>\n",
       "    <tr style=\"text-align: right;\">\n",
       "      <th></th>\n",
       "      <th>content_new</th>\n",
       "      <th>content_nostop</th>\n",
       "      <th>rating</th>\n",
       "      <th>sentiment</th>\n",
       "    </tr>\n",
       "  </thead>\n",
       "  <tbody>\n",
       "    <tr>\n",
       "      <th>0</th>\n",
       "      <td>this kindle is light and easy to use especiall...</td>\n",
       "      <td>[kindle, light, easy, use, especially, beach]</td>\n",
       "      <td>5.0</td>\n",
       "      <td>1.0</td>\n",
       "    </tr>\n",
       "    <tr>\n",
       "      <th>1</th>\n",
       "      <td>didnt know how much i d use a kindle so went f...</td>\n",
       "      <td>[didnt, know, much, use, kindle, went, lower, ...</td>\n",
       "      <td>4.0</td>\n",
       "      <td>1.0</td>\n",
       "    </tr>\n",
       "    <tr>\n",
       "      <th>2</th>\n",
       "      <td>i am 100 happy with my purchase  i caught it o...</td>\n",
       "      <td>[100, happy, purchase, caught, sale, really, g...</td>\n",
       "      <td>5.0</td>\n",
       "      <td>1.0</td>\n",
       "    </tr>\n",
       "    <tr>\n",
       "      <th>3</th>\n",
       "      <td>solid entry level kindle  great for kids  gift...</td>\n",
       "      <td>[solid, entry, level, kindle, great, kids, gif...</td>\n",
       "      <td>5.0</td>\n",
       "      <td>1.0</td>\n",
       "    </tr>\n",
       "    <tr>\n",
       "      <th>4</th>\n",
       "      <td>this make an excellent ebook reader  don t exp...</td>\n",
       "      <td>[make, excellent, ebook, reader, expect, much,...</td>\n",
       "      <td>5.0</td>\n",
       "      <td>1.0</td>\n",
       "    </tr>\n",
       "    <tr>\n",
       "      <th>...</th>\n",
       "      <td>...</td>\n",
       "      <td>...</td>\n",
       "      <td>...</td>\n",
       "      <td>...</td>\n",
       "    </tr>\n",
       "    <tr>\n",
       "      <th>10623</th>\n",
       "      <td>don t buy it it s horrible not connecting with...</td>\n",
       "      <td>[buy, horrible, connecting, phone, connected, ...</td>\n",
       "      <td>1.0</td>\n",
       "      <td>2.0</td>\n",
       "    </tr>\n",
       "    <tr>\n",
       "      <th>10624</th>\n",
       "      <td>very bad</td>\n",
       "      <td>[bad]</td>\n",
       "      <td>2.0</td>\n",
       "      <td>2.0</td>\n",
       "    </tr>\n",
       "    <tr>\n",
       "      <th>10625</th>\n",
       "      <td>very bad sound call quality very bad no bass</td>\n",
       "      <td>[bad, sound, call, quality, bad, bass]</td>\n",
       "      <td>1.0</td>\n",
       "      <td>2.0</td>\n",
       "    </tr>\n",
       "    <tr>\n",
       "      <th>10626</th>\n",
       "      <td>sound</td>\n",
       "      <td>[sound]</td>\n",
       "      <td>1.0</td>\n",
       "      <td>2.0</td>\n",
       "    </tr>\n",
       "    <tr>\n",
       "      <th>10627</th>\n",
       "      <td>m writing this review after using for almost 7...</td>\n",
       "      <td>[writing, review, using, almost, 7, months, st...</td>\n",
       "      <td>1.0</td>\n",
       "      <td>2.0</td>\n",
       "    </tr>\n",
       "  </tbody>\n",
       "</table>\n",
       "<p>10628 rows × 4 columns</p>\n",
       "</div>"
      ],
      "text/plain": [
       "                                             content_new  \\\n",
       "0      this kindle is light and easy to use especiall...   \n",
       "1      didnt know how much i d use a kindle so went f...   \n",
       "2      i am 100 happy with my purchase  i caught it o...   \n",
       "3      solid entry level kindle  great for kids  gift...   \n",
       "4      this make an excellent ebook reader  don t exp...   \n",
       "...                                                  ...   \n",
       "10623  don t buy it it s horrible not connecting with...   \n",
       "10624                                          very bad    \n",
       "10625      very bad sound call quality very bad no bass    \n",
       "10626                                             sound    \n",
       "10627  m writing this review after using for almost 7...   \n",
       "\n",
       "                                          content_nostop  rating  sentiment  \n",
       "0          [kindle, light, easy, use, especially, beach]     5.0        1.0  \n",
       "1      [didnt, know, much, use, kindle, went, lower, ...     4.0        1.0  \n",
       "2      [100, happy, purchase, caught, sale, really, g...     5.0        1.0  \n",
       "3      [solid, entry, level, kindle, great, kids, gif...     5.0        1.0  \n",
       "4      [make, excellent, ebook, reader, expect, much,...     5.0        1.0  \n",
       "...                                                  ...     ...        ...  \n",
       "10623  [buy, horrible, connecting, phone, connected, ...     1.0        2.0  \n",
       "10624                                              [bad]     2.0        2.0  \n",
       "10625             [bad, sound, call, quality, bad, bass]     1.0        2.0  \n",
       "10626                                            [sound]     1.0        2.0  \n",
       "10627  [writing, review, using, almost, 7, months, st...     1.0        2.0  \n",
       "\n",
       "[10628 rows x 4 columns]"
      ]
     },
     "execution_count": 4,
     "metadata": {},
     "output_type": "execute_result"
    }
   ],
   "source": [
    "data_set"
   ]
  },
  {
   "cell_type": "code",
   "execution_count": 5,
   "metadata": {},
   "outputs": [
    {
     "name": "stdout",
     "output_type": "stream",
     "text": [
      "<class 'pandas.core.frame.DataFrame'>\n",
      "RangeIndex: 10628 entries, 0 to 10627\n",
      "Data columns (total 4 columns):\n",
      " #   Column          Non-Null Count  Dtype  \n",
      "---  ------          --------------  -----  \n",
      " 0   content_new     10628 non-null  object \n",
      " 1   content_nostop  10628 non-null  object \n",
      " 2   rating          10628 non-null  float64\n",
      " 3   sentiment       10628 non-null  float64\n",
      "dtypes: float64(2), object(2)\n",
      "memory usage: 332.2+ KB\n"
     ]
    }
   ],
   "source": [
    "data_set.info()"
   ]
  },
  {
   "cell_type": "code",
   "execution_count": 6,
   "metadata": {},
   "outputs": [],
   "source": [
    "noise_words=[]"
   ]
  },
  {
   "cell_type": "code",
   "execution_count": 7,
   "metadata": {},
   "outputs": [],
   "source": [
    "### Creating a python object of the class CountVectorizer\n",
    "\n",
    "CV = CountVectorizer(tokenizer= word_tokenize, # type of tokenization\n",
    "                             stop_words=noise_words, # List of stopwords\n",
    "                             ngram_range=(1,1)) # number of n-grams\n",
    "\n",
    "transformed_data = CV.fit_transform(data_set['content_new'])"
   ]
  },
  {
   "cell_type": "code",
   "execution_count": 8,
   "metadata": {},
   "outputs": [
    {
     "data": {
      "text/plain": [
       "<10628x9598 sparse matrix of type '<class 'numpy.int64'>'\n",
       "\twith 270565 stored elements in Compressed Sparse Row format>"
      ]
     },
     "execution_count": 8,
     "metadata": {},
     "output_type": "execute_result"
    }
   ],
   "source": [
    "transformed_data"
   ]
  },
  {
   "cell_type": "code",
   "execution_count": 9,
   "metadata": {},
   "outputs": [],
   "source": [
    "from sklearn.model_selection import train_test_split\n",
    "from sklearn.linear_model import LogisticRegression\n",
    "from sklearn.tree import DecisionTreeClassifier\n",
    "from sklearn.ensemble import RandomForestClassifier\n",
    "from sklearn.metrics import accuracy_score,f1_score,classification_report,confusion_matrix\n"
   ]
  },
  {
   "cell_type": "code",
   "execution_count": 45,
   "metadata": {},
   "outputs": [],
   "source": [
    "X = transformed_data.toarray()\n",
    "y = data_set['sentiment'].values"
   ]
  },
  {
   "cell_type": "code",
   "execution_count": 46,
   "metadata": {},
   "outputs": [],
   "source": [
    "X_train, X_test, y_train, y_test = train_test_split(X,y,test_size = 0.2,random_state = 0)"
   ]
  },
  {
   "cell_type": "code",
   "execution_count": 47,
   "metadata": {},
   "outputs": [
    {
     "data": {
      "text/plain": [
       "array([1., 2., 1., ..., 1., 1., 2.])"
      ]
     },
     "execution_count": 47,
     "metadata": {},
     "output_type": "execute_result"
    }
   ],
   "source": [
    "y_test"
   ]
  },
  {
   "cell_type": "code",
   "execution_count": 48,
   "metadata": {},
   "outputs": [],
   "source": [
    "from sklearn.pipeline import Pipeline\n",
    "from sklearn.decomposition import PCA\n",
    "pipeline_lr = Pipeline([('lr_classifier',LogisticRegression(random_state=0))])\n",
    "\n",
    "pipeline_dt = Pipeline([('dt_classifier',DecisionTreeClassifier())])\n",
    "\n",
    "pipeline_rf = Pipeline([('rf_classifier',RandomForestClassifier())])"
   ]
  },
  {
   "cell_type": "code",
   "execution_count": 49,
   "metadata": {},
   "outputs": [],
   "source": [
    "pipelines = [pipeline_lr,pipeline_dt,pipeline_rf]"
   ]
  },
  {
   "cell_type": "code",
   "execution_count": 50,
   "metadata": {},
   "outputs": [],
   "source": [
    "best_accuracy=0.0\n",
    "best_classifier=0\n",
    "best_pipeline=\"\""
   ]
  },
  {
   "cell_type": "code",
   "execution_count": 51,
   "metadata": {},
   "outputs": [],
   "source": [
    "pipe_dict = {0:'Logistic Regression',1:'Decision Tree',2:'RandomForest'}"
   ]
  },
  {
   "cell_type": "code",
   "execution_count": 52,
   "metadata": {},
   "outputs": [],
   "source": [
    "for pipe in pipelines:\n",
    "    pipe.fit(X_train,y_train)"
   ]
  },
  {
   "cell_type": "code",
   "execution_count": 53,
   "metadata": {},
   "outputs": [
    {
     "name": "stdout",
     "output_type": "stream",
     "text": [
      "Logistic Regression Test Accuracy: 0.9369708372530574\n",
      "Decision Tree Test Accuracy: 0.8372530573847601\n",
      "RandomForest Test Accuracy: 0.9167450611476952\n"
     ]
    }
   ],
   "source": [
    "for i,model in enumerate(pipelines):\n",
    "    print(\"{} Test Accuracy: {}\".format(pipe_dict[i],model.score(X_test,y_test)))"
   ]
  },
  {
   "cell_type": "code",
   "execution_count": 54,
   "metadata": {},
   "outputs": [
    {
     "name": "stdout",
     "output_type": "stream",
     "text": [
      "Classifier with best accuracy:Logistic Regression\n"
     ]
    }
   ],
   "source": [
    "for i,model in enumerate(pipelines):\n",
    "    if model.score(X_test,y_test)>best_accuracy:\n",
    "        best_accuracy = model.score(X_test,y_test)\n",
    "        best_classifier = i\n",
    "        best_pipeline = model\n",
    "print('Classifier with best accuracy:{}'.format(pipe_dict[best_classifier]))"
   ]
  },
  {
   "cell_type": "code",
   "execution_count": 55,
   "metadata": {},
   "outputs": [
    {
     "data": {
      "text/plain": [
       "LogisticRegression()"
      ]
     },
     "execution_count": 55,
     "metadata": {},
     "output_type": "execute_result"
    }
   ],
   "source": [
    "classifier = LogisticRegression()\n",
    "classifier.fit(X_train,y_train)"
   ]
  },
  {
   "cell_type": "code",
   "execution_count": 56,
   "metadata": {},
   "outputs": [],
   "source": [
    "y_pred = classifier.predict(X_test)"
   ]
  },
  {
   "cell_type": "code",
   "execution_count": 57,
   "metadata": {},
   "outputs": [
    {
     "name": "stdout",
     "output_type": "stream",
     "text": [
      "[[1. 1.]\n",
      " [2. 2.]\n",
      " [1. 1.]\n",
      " ...\n",
      " [1. 1.]\n",
      " [1. 1.]\n",
      " [2. 2.]]\n"
     ]
    }
   ],
   "source": [
    "print(np.concatenate((y_pred.reshape(len(y_pred),1), y_test.reshape(len(y_test),1)),1))"
   ]
  },
  {
   "cell_type": "code",
   "execution_count": 58,
   "metadata": {},
   "outputs": [
    {
     "name": "stdout",
     "output_type": "stream",
     "text": [
      "              precision    recall  f1-score   support\n",
      "\n",
      "         0.0       0.90      0.85      0.87       502\n",
      "         1.0       0.94      0.96      0.95       920\n",
      "         2.0       0.95      0.97      0.96       704\n",
      "\n",
      "    accuracy                           0.94      2126\n",
      "   macro avg       0.93      0.93      0.93      2126\n",
      "weighted avg       0.94      0.94      0.94      2126\n",
      "\n"
     ]
    }
   ],
   "source": [
    "print(classification_report(y_test,y_pred))"
   ]
  },
  {
   "cell_type": "code",
   "execution_count": 59,
   "metadata": {},
   "outputs": [
    {
     "data": {
      "text/plain": [
       "array([[425,  48,  29],\n",
       "       [ 28, 884,   8],\n",
       "       [ 17,   4, 683]], dtype=int64)"
      ]
     },
     "execution_count": 59,
     "metadata": {},
     "output_type": "execute_result"
    }
   ],
   "source": [
    "confusion_matrix(y_test,y_pred)"
   ]
  },
  {
   "cell_type": "code",
   "execution_count": 60,
   "metadata": {},
   "outputs": [
    {
     "data": {
      "text/plain": [
       "0.9369708372530574"
      ]
     },
     "execution_count": 60,
     "metadata": {},
     "output_type": "execute_result"
    }
   ],
   "source": [
    "accuracy_score(y_test,y_pred)"
   ]
  },
  {
   "cell_type": "markdown",
   "metadata": {},
   "source": [
    "##  Sample review prediction"
   ]
  },
  {
   "cell_type": "code",
   "execution_count": 83,
   "metadata": {},
   "outputs": [],
   "source": [
    "string_in = \"It's beyond my expectation, and it can even show music score. Not fast turning though.\"\n",
    "\n",
    "X_clean = re.sub('[^A-Za-z0-9]+',' ',string_in)"
   ]
  },
  {
   "cell_type": "code",
   "execution_count": 84,
   "metadata": {},
   "outputs": [],
   "source": [
    "X_clean = word_tokenize(X_clean)"
   ]
  },
  {
   "cell_type": "code",
   "execution_count": 85,
   "metadata": {},
   "outputs": [
    {
     "data": {
      "text/plain": [
       "['It',\n",
       " 's',\n",
       " 'beyond',\n",
       " 'my',\n",
       " 'expectation',\n",
       " 'and',\n",
       " 'it',\n",
       " 'can',\n",
       " 'even',\n",
       " 'show',\n",
       " 'music',\n",
       " 'score',\n",
       " 'Not',\n",
       " 'fast',\n",
       " 'turning',\n",
       " 'though']"
      ]
     },
     "execution_count": 85,
     "metadata": {},
     "output_type": "execute_result"
    }
   ],
   "source": [
    "X_clean"
   ]
  },
  {
   "cell_type": "code",
   "execution_count": 86,
   "metadata": {},
   "outputs": [],
   "source": [
    "stop_words = set(stopwords.words('english'))\n",
    "X_filtered = [w for w in X_clean if not w in stop_words]"
   ]
  },
  {
   "cell_type": "code",
   "execution_count": 87,
   "metadata": {},
   "outputs": [],
   "source": [
    "#X_filtered=' '.join(map(str,X_filtered))"
   ]
  },
  {
   "cell_type": "code",
   "execution_count": 90,
   "metadata": {},
   "outputs": [
    {
     "data": {
      "text/plain": [
       "['It',\n",
       " 'beyond',\n",
       " 'expectation',\n",
       " 'even',\n",
       " 'show',\n",
       " 'music',\n",
       " 'score',\n",
       " 'Not',\n",
       " 'fast',\n",
       " 'turning',\n",
       " 'though']"
      ]
     },
     "execution_count": 90,
     "metadata": {},
     "output_type": "execute_result"
    }
   ],
   "source": [
    "X_filtered"
   ]
  },
  {
   "cell_type": "code",
   "execution_count": 93,
   "metadata": {},
   "outputs": [],
   "source": [
    "cv=CountVectorizer()\n",
    "X_cv = cv.fit_transform(X_filtered)"
   ]
  },
  {
   "cell_type": "code",
   "execution_count": 92,
   "metadata": {},
   "outputs": [
    {
     "ename": "AttributeError",
     "evalue": "to_array not found",
     "output_type": "error",
     "traceback": [
      "\u001b[1;31m---------------------------------------------------------------------------\u001b[0m",
      "\u001b[1;31mAttributeError\u001b[0m                            Traceback (most recent call last)",
      "\u001b[1;32m<ipython-input-92-a51299f92094>\u001b[0m in \u001b[0;36m<module>\u001b[1;34m\u001b[0m\n\u001b[1;32m----> 1\u001b[1;33m \u001b[0mX_cv\u001b[0m \u001b[1;33m=\u001b[0m \u001b[0mX_cv\u001b[0m\u001b[1;33m.\u001b[0m\u001b[0mto_array\u001b[0m\u001b[1;33m(\u001b[0m\u001b[1;33m)\u001b[0m\u001b[1;33m\u001b[0m\u001b[1;33m\u001b[0m\u001b[0m\n\u001b[0m",
      "\u001b[1;32m~\\anaconda3\\Lib\\site-packages\\scipy\\sparse\\base.py\u001b[0m in \u001b[0;36m__getattr__\u001b[1;34m(self, attr)\u001b[0m\n\u001b[0;32m    685\u001b[0m             \u001b[1;32mreturn\u001b[0m \u001b[0mself\u001b[0m\u001b[1;33m.\u001b[0m\u001b[0mgetnnz\u001b[0m\u001b[1;33m(\u001b[0m\u001b[1;33m)\u001b[0m\u001b[1;33m\u001b[0m\u001b[1;33m\u001b[0m\u001b[0m\n\u001b[0;32m    686\u001b[0m         \u001b[1;32melse\u001b[0m\u001b[1;33m:\u001b[0m\u001b[1;33m\u001b[0m\u001b[1;33m\u001b[0m\u001b[0m\n\u001b[1;32m--> 687\u001b[1;33m             \u001b[1;32mraise\u001b[0m \u001b[0mAttributeError\u001b[0m\u001b[1;33m(\u001b[0m\u001b[0mattr\u001b[0m \u001b[1;33m+\u001b[0m \u001b[1;34m\" not found\"\u001b[0m\u001b[1;33m)\u001b[0m\u001b[1;33m\u001b[0m\u001b[1;33m\u001b[0m\u001b[0m\n\u001b[0m\u001b[0;32m    688\u001b[0m \u001b[1;33m\u001b[0m\u001b[0m\n\u001b[0;32m    689\u001b[0m     \u001b[1;32mdef\u001b[0m \u001b[0mtranspose\u001b[0m\u001b[1;33m(\u001b[0m\u001b[0mself\u001b[0m\u001b[1;33m,\u001b[0m \u001b[0maxes\u001b[0m\u001b[1;33m=\u001b[0m\u001b[1;32mNone\u001b[0m\u001b[1;33m,\u001b[0m \u001b[0mcopy\u001b[0m\u001b[1;33m=\u001b[0m\u001b[1;32mFalse\u001b[0m\u001b[1;33m)\u001b[0m\u001b[1;33m:\u001b[0m\u001b[1;33m\u001b[0m\u001b[1;33m\u001b[0m\u001b[0m\n",
      "\u001b[1;31mAttributeError\u001b[0m: to_array not found"
     ]
    }
   ],
   "source": [
    "#X_pred = X_cv.to_array()"
   ]
  },
  {
   "cell_type": "code",
   "execution_count": 94,
   "metadata": {},
   "outputs": [
    {
     "ename": "ValueError",
     "evalue": "X has 11 features per sample; expecting 9598",
     "output_type": "error",
     "traceback": [
      "\u001b[1;31m---------------------------------------------------------------------------\u001b[0m",
      "\u001b[1;31mValueError\u001b[0m                                Traceback (most recent call last)",
      "\u001b[1;32m<ipython-input-94-a33279e7aa0b>\u001b[0m in \u001b[0;36m<module>\u001b[1;34m\u001b[0m\n\u001b[1;32m----> 1\u001b[1;33m \u001b[0mpred\u001b[0m \u001b[1;33m=\u001b[0m \u001b[0mclassifier\u001b[0m\u001b[1;33m.\u001b[0m\u001b[0mpredict\u001b[0m\u001b[1;33m(\u001b[0m\u001b[0mX_cv\u001b[0m\u001b[1;33m)\u001b[0m\u001b[1;33m\u001b[0m\u001b[1;33m\u001b[0m\u001b[0m\n\u001b[0m",
      "\u001b[1;32m~\\anaconda3\\Lib\\site-packages\\sklearn\\linear_model\\_base.py\u001b[0m in \u001b[0;36mpredict\u001b[1;34m(self, X)\u001b[0m\n\u001b[0;32m    307\u001b[0m             \u001b[0mPredicted\u001b[0m \u001b[1;32mclass\u001b[0m \u001b[0mlabel\u001b[0m \u001b[0mper\u001b[0m \u001b[0msample\u001b[0m\u001b[1;33m.\u001b[0m\u001b[1;33m\u001b[0m\u001b[1;33m\u001b[0m\u001b[0m\n\u001b[0;32m    308\u001b[0m         \"\"\"\n\u001b[1;32m--> 309\u001b[1;33m         \u001b[0mscores\u001b[0m \u001b[1;33m=\u001b[0m \u001b[0mself\u001b[0m\u001b[1;33m.\u001b[0m\u001b[0mdecision_function\u001b[0m\u001b[1;33m(\u001b[0m\u001b[0mX\u001b[0m\u001b[1;33m)\u001b[0m\u001b[1;33m\u001b[0m\u001b[1;33m\u001b[0m\u001b[0m\n\u001b[0m\u001b[0;32m    310\u001b[0m         \u001b[1;32mif\u001b[0m \u001b[0mlen\u001b[0m\u001b[1;33m(\u001b[0m\u001b[0mscores\u001b[0m\u001b[1;33m.\u001b[0m\u001b[0mshape\u001b[0m\u001b[1;33m)\u001b[0m \u001b[1;33m==\u001b[0m \u001b[1;36m1\u001b[0m\u001b[1;33m:\u001b[0m\u001b[1;33m\u001b[0m\u001b[1;33m\u001b[0m\u001b[0m\n\u001b[0;32m    311\u001b[0m             \u001b[0mindices\u001b[0m \u001b[1;33m=\u001b[0m \u001b[1;33m(\u001b[0m\u001b[0mscores\u001b[0m \u001b[1;33m>\u001b[0m \u001b[1;36m0\u001b[0m\u001b[1;33m)\u001b[0m\u001b[1;33m.\u001b[0m\u001b[0mastype\u001b[0m\u001b[1;33m(\u001b[0m\u001b[0mint\u001b[0m\u001b[1;33m)\u001b[0m\u001b[1;33m\u001b[0m\u001b[1;33m\u001b[0m\u001b[0m\n",
      "\u001b[1;32m~\\anaconda3\\Lib\\site-packages\\sklearn\\linear_model\\_base.py\u001b[0m in \u001b[0;36mdecision_function\u001b[1;34m(self, X)\u001b[0m\n\u001b[0;32m    287\u001b[0m         \u001b[1;32mif\u001b[0m \u001b[0mX\u001b[0m\u001b[1;33m.\u001b[0m\u001b[0mshape\u001b[0m\u001b[1;33m[\u001b[0m\u001b[1;36m1\u001b[0m\u001b[1;33m]\u001b[0m \u001b[1;33m!=\u001b[0m \u001b[0mn_features\u001b[0m\u001b[1;33m:\u001b[0m\u001b[1;33m\u001b[0m\u001b[1;33m\u001b[0m\u001b[0m\n\u001b[0;32m    288\u001b[0m             raise ValueError(\"X has %d features per sample; expecting %d\"\n\u001b[1;32m--> 289\u001b[1;33m                              % (X.shape[1], n_features))\n\u001b[0m\u001b[0;32m    290\u001b[0m \u001b[1;33m\u001b[0m\u001b[0m\n\u001b[0;32m    291\u001b[0m         scores = safe_sparse_dot(X, self.coef_.T,\n",
      "\u001b[1;31mValueError\u001b[0m: X has 11 features per sample; expecting 9598"
     ]
    }
   ],
   "source": [
    "pred = classifier.predict(X_cv) "
   ]
  },
  {
   "cell_type": "code",
   "execution_count": 74,
   "metadata": {
    "collapsed": true
   },
   "outputs": [
    {
     "name": "stdout",
     "output_type": "stream",
     "text": [
      "['0', '00', '000', '00g', '02', '04', '06', '07', '09', '0f', '0g', '0v', '1', '10', '100', '1000', '1000ma', '1000rs', '1000s', '100rs', '100s', '100v', '1024', '105', '107', '1080', '1080p', '1099', '10amazon', '10bass', '10calling', '10days', '10feet', '10ft', '10m', '10major', '10mins', '10mtr', '10mts', '10s', '10th', '10times', '10w', '10x', '11', '1100', '110v', '115f', '119', '1199', '11days', '11th', '11yr', '12', '120', '1200', '120is', '123029', '127i', '128', '128gb', '129', '12x', '13', '1300', '139', '1399', '13th', '14', '1400', '1400not', '149', '1499', '15', '150', '1500', '1500rs', '1529', '15days', '15mins', '15th', '16', '1600', '1699', '16g', '16gb', '16th', '17', '1700', '174', '179', '17th', '18', '180', '1800', '1800s', '180street', '18k', '18th', '19', '1900bucks', '193015', '1960', '1980', '199', '1992', '1999', '19th', '1a', '1gb', '1hour', '1hr', '1k', '1m', '1month', '1months', '1one', '1st', '1star', '1to', '1usb', '1v', '1week', '1year', '1yr', '2', '20', '200', '2000', '2000rs', '2003', '200gb', '200rs', '2010', '201014', '2012', '2015', '2016', '2016batteries', '2017', '2017not', '2018', '2018start', '2018with', '2019', '2019in', '2019raised', '2019sent', '202', '2024', '2025', '2026', '2027', '204', '2099', '20days', '20gb', '20hr', '20mins', '21', '210', '2107', '2199', '22', '2200', '225', '22nd', '23', '230', '2300', '2300it', '2399', '23rd', '24', '240', '2400', '240v', '242547', '249', '24hrs', '24th', '25', '250', '2500', '25010', '250rs', '255', '255costumer', '256', '25mgb', '25th', '25v', '26', '264', '27', '275', '275s', '276013', '27march19', '27th', '28', '289', '29', '29th', '2am', '2ft', '2hours', '2hrs', '2k', '2ki', '2m', '2months', '2nd', '2pairs', '2sec', '2soconds', '2star', '2stars', '2too', '2weeks', '2year', '2years', '2yr', '3', '30', '300', '3000', '3000bugs', '300rupees', '30day', '30days', '30km', '30min', '30mins', '30mints', '30mtrs', '30sec', '31', '310', '32', '32g', '32gb', '34', '35', '350', '3500', '36', '37', '3700', '3799', '37th', '38', '384', '39', '3d', '3ds', '3g', '3hrs', '3k', '3m', '3month', '3months', '3mths', '3rd', '3star', '3t', '3to4m', '3v', '3x', '3yo', '3yr', '3yrs', '4', '40', '400', '4000', '400706', '40days', '44', '45', '4500', '45min', '46', '48', '48aa', '48pack', '48v', '49', '499', '4999', '4a', '4days', '4g', '4ghz', '4hours', '4hrs', '4k', '4months', '4out', '4th', '4x', '4yr', '5', '50', '500', '500ish', '500ma', '500rs', '52', '55', '550', '58', '59', '599', '5but', '5ft', '5ghz', '5h', '5half', '5hrs', '5k', '5looks', '5mbps', '5metres', '5mfitting', '5min', '5mins', '5mm', '5month', '5months', '5monthssound', '5noise', '5s', '5star', '5t', '5th', '5v', '5volume', '5w', '5years', '5yo', '5yr', '6', '60', '600', '612026', '64', '64gb', '64gig', '65', '65mbps', '68', '686', '69', '691121', '699', '6hrs', '6kindles', '6month', '6months', '6mos', '6t', '6th', '6times', '6v', '6wks', '6x', '6yo', '6yr', '6yrs', '7', '70', '700', '70s', '720p', '747', '75', '750', '76', '766', '77', '78', '79', '799', '7min', '7pro', '7th', '7yr', '8', '80', '800', '8252', '83', '84', '85', '86', '860', '8635', '8640', '87', '88', '89', '8d', '8g', '8gb', '8h', '8mm', '8th', '8times', '8v', '8yo', '9', '90', '900', '911', '93', '9400', '95', '96', '96hrs', '9833346739', '99', '990rs', '9972517557', '999', '999now', '9th', '9the', '9v', '9yo', 'a', 'a7', 'aa', 'aaa', 'aaas', 'aacept', 'aas', 'aata', 'aavaz', 'ab', 'abale', 'abc', 'abilities', 'ability', 'abke', 'able', 'abnormal', 'about', 'about8', 'above', 'abovebattery', 'abroad', 'abruptly', 'absence', 'absent', 'absolute', 'absolutely', 'absorbent', 'absorbs', 'abstain', 'abt', 'abuse', 'abysmal', 'ac', 'ac1', 'accedently', 'accelerometer', 'accent', 'accept', 'acceptable', 'accepted', 'accepting', 'accesible', 'access', 'accessed', 'accesses', 'accessibility', 'accessible', 'accessing', 'accessories', 'accessory', 'accident', 'accidental', 'accidentally', 'accidentlly', 'accidently', 'accidents', 'accommodate', 'accompanied', 'accompany', 'accomplish', 'according', 'accordingly', 'account', 'accounts', 'accurate', 'accurately', 'accustomed', 'acdelco', 'ache', 'aches', 'achha', 'achieve', 'achievements', 'acid', 'acknowledged', 'acme', 'acording', 'acoustics', 'acquainted', 'acquire', 'across', 'act', 'acting', 'action', 'actions', 'activate', 'activated', 'activation', 'active', 'activites', 'activities', 'activity', 'actors', 'acts', 'actual', 'actually', 'ad', 'adage', 'adapt', 'adaptable', 'adapter', 'adapters', 'adapting', 'adaptive', 'adaptor', 'adapts', 'adaquate', 'add', 'addage', 'added', 'addict', 'addicted', 'addiction', 'addictive', 'adding', 'addition', 'additional', 'additionally', 'addon', 'address', 'adds', 'addtion', 'adequate', 'adequatebetter', 'adequately', 'adhesion', 'adjust', 'adjustable', 'adjusted', 'adjusting', 'adjustment', 'adjustments', 'adjusts', 'admit', 'adopter', 'adoption', 'adoptor', 'adorable', 'adore', 'ads', 'ads2', 'adt', 'adult', 'adults', 'adultsa', 'advance', 'advanced', 'advancement', 'advantage', 'advantaged', 'advantages', 'advert', 'advertise', 'advertised', 'advertisement', 'advertisements', 'advertising', 'advertisment', 'advice', 'advisable', 'advise', 'advised', 'advisor', 'aerobic', 'aesthetics', 'af', 'afer', 'affected', 'affecting', 'afford', 'affordable', 'affortable', 'afraid', 'afresh', 'african', 'after', 'after4', 'afterbone', 'aftermarket', 'afternoon', 'afterwards', 'again', 'againgetting', 'against', 'age', 'aged', 'agent', 'ages', 'aggravation', 'agian', 'aging', 'agnostic', 'ago', 'agony', 'agree', 'agreed', 'agreement', 'agreements', 'agrivating', 'ahead', 'ahesive', 'ai', 'aid', 'aide', 'aiden', 'aimed', 'ain', 'air', 'airline', 'airlines', 'airphone', 'airplane', 'airpod', 'airpods', 'airport', 'airports', 'aka', 'aker', 'akg', 'al', 'alarm', 'alarming', 'alarms', 'alaska', 'album', 'albums', 'alerts', 'alex', 'alexa', 'alexais', 'alexas', 'alexia', 'alexis', 'align', 'alike', 'alkaline', 'alkalines', 'all', 'allall', 'alleged', 'alleviate', 'alleviating', 'allhave', 'allllll', 'allot', 'allots', 'allotted', 'allow', 'allowance', 'allowed', 'allowing', 'allows', 'alloys', 'allreally', 'allrecipes', 'allthough', 'almanac', 'almost', 'alone', 'along', 'alos', 'alot', 'alphabet', 'alrdy', 'already', 'alright', 'also', 'alsome', 'alt', 'alter', 'alternate', 'alternating', 'alternative', 'alternatives', 'although', 'altogether', 'altogethers', 'always', 'alwyas', 'am', 'amaizin', 'amazed', 'amazement', 'amazes', 'amazin', 'amazing', 'amazingly', 'amazn', 'amazon', 'amazonbasics', 'amazone', 'amazons', 'amazontv', 'amberissing', 'ambience', 'ambient', 'amd', 'american', 'amol', 'among', 'amongst', 'amount', 'amountbas', 'amountit', 'amounts', 'amp', 'amped', 'amperage', 'ample', 'amplifier', 'amplifying', 'amplitude', 'amplitudes', 'amps', 'amsterdam', 'amszing', 'an', 'an3', 'anc', 'anchor', 'ancient', 'and', 'andriod', 'android', 'androidos', 'andthe', 'angel', 'angle', 'angled', 'angles', 'angry', 'anniversary', 'announced', 'announcement', 'annoyance', 'annoyed', 'annoying', 'annoyingly', 'annoys', 'annual', 'annually', 'anomaly', 'another', 'anotherone', 'ans', 'answer', 'answered', 'answering', 'answers', 'answring', 'ant', 'antenna', 'anthing', 'anti', 'anticipate', 'anticipated', 'anwser', 'anxiety', 'any', 'anybody', 'anyday', 'anymore', 'anymoreplus', 'anyone', 'anything', 'anything6', 'anytime', 'anyway', 'anyways', 'anywhere', 'aol', 'ap', 'apart', 'apartment', 'api', 'apologized', 'app', 'appalled', 'apparent', 'apparently', 'appario', 'appeal', 'appealing', 'appear', 'appearance', 'appeared', 'appeares', 'appearing', 'appears', 'appel', 'apple', 'appletv', 'appletvs', 'appliance', 'appliances', 'applicable', 'application', 'applications', 'applied', 'apply', 'appointment', 'appointments', 'appproslight', 'appreciable', 'appreciate', 'appreciated', 'appreciation', 'apprehensive', 'approach', 'appropriate', 'approval', 'approve', 'approved', 'approx', 'approximately', 'apps', 'appschild', 'appsthe', 'appstore', 'apr', 'apr19', 'april', 'aps', 'apt', 'apts', 'ar', 'araised', 'arch', 'are', 'area', 'areagreat', 'areally', 'areas', 'arelucky', 'aren', 'arena', 'areplacement', 'argued', 'arises', 'arlo', 'arm', 'arming', 'arms', 'arnd', 'around', 'arrange', 'arranged', 'arrangement', 'arrangements', 'arrival', 'arrive', 'arrived', 'arrives', 'arriving', 'art', 'arthritis', 'article', 'articles', 'artificial', 'artist', 'artists', 'as', 'asap', 'asaplow', 'asesome', 'ashamed', 'asia', 'asian', 'aside', 'asin', 'ask', 'asked', 'askes', 'asking', 'asks', 'asleep', 'aslo', 'aspect', 'aspected', 'aspects', 'asphalt', 'assembled', 'assignments', 'assist', 'assistance', 'assistant', 'assistants', 'assisted', 'assists', 'associate', 'associated', 'associates', 'assume', 'assumed', 'assuming', 'assumwd', 'assure', 'assured', 'astonishment', 'astounding', 'asus', 'aswell', 'at', 'ata', 'atall', 'atany', 'ate', 'atl', 'atleast', 'att', 'attach', 'attached', 'attaches', 'attaching', 'attachment', 'attachments', 'attack', 'attacked', 'attempt', 'attempted', 'attempting', 'attempts', 'attend', 'attending', 'attention', 'attery', 'attest', 'attract', 'attracted', 'attractive', 'attracts', 'audibility', 'audible', 'audio', 'audiobook', 'audiobooks', 'audiophile', 'audiophiles', 'audios', 'aug', 'august', 'aunt', 'aur', 'authenticating', 'authentication', 'authenticity', 'author', 'authorized', 'authors', 'autimatically', 'autism', 'autistic', 'auto', 'automallically', 'automate', 'automated', 'automatic', 'automatically', 'automaticallyat', 'automaticallyy', 'automaticay', 'automating', 'automation', 'auxiliary', 'avail', 'availabe', 'availability', 'available', 'availablesare', 'availble', 'avaj', 'avarage', 'average', 'average3', 'avergae', 'avi', 'avid', 'avoid', 'awaiting', 'awake', 'awards', 'aware', 'away', 'awe', 'aweome', 'awesome', 'awesome2', 'awesomebattery', 'awestruck', 'awful', 'awhile', 'awkward', 'awseome', 'awsome', 'awsum', 'azi', 'b', 'b00441ucy0', 'b005g7sby4', 'b008v6t1iw', 'b00nq17zus', 'b00sh08uxy', 'baar', 'baas', 'babes', 'babies', 'baby', 'babysit', 'bacause', 'back', 'backap', 'background', 'backing', 'backlight', 'backlighting', 'backlights', 'backlit', 'backpack', 'backpacking', 'backs', 'backup', 'backups', 'backward', 'backwards', 'backyard', 'bad', 'bad2', 'badbroke', 'badconnectivity', 'baddurability', 'badit', 'badly', 'badlysound', 'baffled', 'bag', 'bage', 'baggie', 'bah', 'bahut', 'baj', 'baked', 'bakwaas', 'bakwaassss', 'bakwas', 'balance', 'balanced', 'baldwin', 'baller', 'ban', 'band', 'bands', 'bang', 'bangalore', 'bank', 'banking', 'bar', 'barbad', 'bare', 'barely', 'bargain', 'barking', 'barley', 'barnes', 'barriers', 'bascially', 'base', 'based', 'basement', 'bashing', 'basic', 'basically', 'basicly', 'basics', 'basis', 'basket', 'basketball', 'baskey', 'bass', 'bass2', 'basscons', 'bassgo', 'basshead', 'bassi', 'basss', 'basssounds', 'bassvery', 'bassy', 'basy', 'batch', 'baterry', 'batery', 'bath', 'bathroom', 'batry', 'bats', 'batter', 'batterey', 'batterie', 'batteries', 'batteriesdon', 'batterieswith', 'batterly', 'batters', 'battert', 'battery', 'batterys', 'battiers', 'battle', 'battry', 'batts', 'baught', 'bay', 'bb', 'bbuy', 'bc', 'bcoz', 'bcz', 'bday', 'bds', 'be', 'beach', 'beacuse', 'beading', 'bear', 'bearable', 'bearly', 'beast', 'beat', 'beaten', 'beater', 'beating', 'beats', 'beause', 'beautiful', 'beautifully', 'became', 'because', 'become', 'becomes', 'becoming', 'becuase', 'becuse', 'becuz', 'bed', 'bedcan', 'bedridden', 'bedroom', 'bedrooms', 'bedside', 'bedt', 'bedtime', 'beeding', 'beef', 'been', 'beencollecting', 'beep', 'beeped', 'beeping', 'beeps', 'beer', 'befooling', 'before', 'beforehand', 'began', 'begging', 'begin', 'begining', 'beginleft', 'beginner', 'beginners', 'beginning', 'begins', 'begrudge', 'behalf', 'behave', 'behaving', 'behavior', 'behind', 'behold', 'being', 'bejeweled', 'bekar', 'believe', 'believed', 'believer', 'believing', 'belive', 'belkin', 'bell', 'bells', 'belong', 'belongs', 'below', 'ben', 'bend', 'bending', 'beneficial', 'benefit', 'benefited', 'benefits', 'bengaluru', 'bent', 'beoke', 'beside', 'besides', 'best', 'bestbuy', 'bet', 'beta', 'betray', 'betrayed', 'bettary', 'bette', 'better', 'betterthan', 'bettery', 'bettry', 'between', 'beware', 'beyond', 'bezel', 'bf', 'bff', 'bfrnd', 'bhagat', 'bhaiyo', 'bhajan', 'bhi', 'biased', 'bifocals', 'big', 'bigger', 'biggest', 'biggie', 'bike', 'bill', 'billboard', 'billing', 'bills', 'binder', 'binders', 'bing', 'binge', 'biology', 'birds', 'birth', 'birthday', 'birthdays', 'bis', 'bit', 'bite', 'biting', 'bitrate', 'bits', 'bitt', 'black', 'blacks', 'blackscreen', 'blades', 'blah', 'blame', 'blank', 'blankets', 'blanking', 'blaring', 'blast', 'blasting', 'blazing', 'bleed', 'blend', 'bless', 'blew', 'blind', 'blinded', 'blindly', 'blink', 'blinked', 'blinking', 'blister', 'blitz', 'bloat', 'bloated', 'bloatware', 'block', 'blocked', 'blocking', 'blocks', 'blocky', 'bloddy', 'blood', 'bloom', 'blootooth', 'blow', 'blowing', 'blown', 'blows', 'blue', 'bluethoot', 'bluetooth', 'bluetoothdecent', 'bluetoothproduct', 'bluetoothwarranty', 'bluetuth', 'bluish', 'blunt', 'blurbs', 'blurred', 'blurry', 'blutooth', 'bnata', 'boad', 'board', 'boasting', 'boat', 'boatafter', 'boatonly', 'boats', 'body', 'boeing', 'bogs', 'boight', 'bolton', 'bomb', 'bombardment', 'bone', 'bones', 'bonus', 'bonuses', 'boo', 'book', 'booking', 'booklet', 'bookmark', 'bookmarking', 'bookreader', 'books', 'booksvia', 'boom', 'booming', 'booooo', 'boost', 'boosted', 'boot', 'booted', 'booting', 'boots', 'borders', 'bored', 'boredom', 'boring', 'borrow', 'borrowed', 'bose', 'bot', 'both', 'bother', 'bothered', 'bothering', 'bothers', 'bothersome', 'bottom', 'bough', 'bought', 'boult', 'bounce', 'bouncing', 'bound', 'bout', 'bowl', 'box', 'boxed', 'boxes', 'boy', 'boyfriend', 'boys', 'bp', 'brace', 'brackets', 'brain', 'brainer', 'braking', 'branch', 'brand', 'brandbad', 'branded', 'branding', 'brands', 'bravo', 'bread', 'break', 'breakable', 'breaker', 'breakfast', 'breaking', 'breaks', 'breast', 'breathable', 'breeze', 'brew', 'brick', 'bridge', 'brief', 'briefcase', 'briefing', 'briefings', 'briefs', 'bright', 'brighten', 'brighter', 'brightest', 'brightly', 'brightness', 'brilliant', 'brilliantn', 'bring', 'bringing', 'brings', 'broke', 'broked', 'broken', 'brokening', 'brother', 'brothers', 'brought', 'broughtone', 'brown', 'browse', 'browser', 'browsers', 'browsing', 'bruce', 'brush', 'brutal', 'bs', 'bsdk', 'bt', 'btdon', 'btry', 'btw', 'bubble', 'bubbled', 'bubbles', 'buck', 'buckle', 'bucks', 'bud', 'buddy', 'budget', 'budgetedited', 'buds', 'buffer', 'buffering', 'buffers', 'bug', 'bugdt', 'bugging', 'buggy', 'bugs', 'build', 'building', 'built', 'builtcons', 'bulb', 'bulbs', 'bulk', 'bulky', 'bullet', 'bulti', 'bummed', 'bummer', 'bumper', 'bumping', 'bunch', 'bundle', 'bundled', 'bundles', 'bunny', 'burn', 'burned', 'burning', 'burns', 'burnt', 'burrrrr', 'burst', 'bus', 'business', 'bust', 'busted', 'busy', 'but', 'butt', 'button', 'buttonbattery', 'buttons', 'buttuns', 'buy', 'buyed', 'buyer', 'buyerplease', 'buyers', 'buying', 'buying1', 'buyits', 'buyr', 'buys', 'buyshock', 'buzz', 'buzzing', 'by', 'bye', 'byod', 'bypassed', 'byut', 'c', 'c100si', 'c150', 'c300', 'cabin', 'cabinet', 'cabinets', 'cable', 'cables', 'cablesanyonei', 'cache', 'cadillac', 'cahrging', 'cake', 'calendar', 'calendars', 'calender', 'calibrate', 'call', 'calldouble', 'called', 'caller', 'calling', 'callinh', 'calls', 'callsyou', 'callused', 'calmly', 'calmness', 'cam', 'camaras', 'camcorder', 'came', 'camer', 'camera', 'cameras', 'camp', 'camper', 'camping', 'cams', 'can', 'canada', 'cancel', 'cancelation', 'canceled', 'canceling', 'cancell', 'cancellation', 'cancellationcons', 'cancellations', 'cancellationvery', 'cancelled', 'cancelling', 'candle', 'candles', 'candy', 'cannaught', 'cannon', 'cannt', 'canon', 'cans', 'cansilation', 'cant', 'cap', 'capabilities', 'capability', 'capable', 'capacitancethey', 'capacity', 'capstone', 'captable', 'captions', 'captivated', 'capture', 'captures', 'capturing', 'car', 'carbon', 'card', 'cardboard', 'cardiac', 'cards', 'care', 'careful', 'carefully', 'cares', 'carousel', 'carpal', 'carrasoul', 'carried', 'carrier', 'carries', 'carry', 'carryeasy', 'carrying', 'carton', 'cartoon', 'cartoons', 'cartridge', 'case', 'cases', 'casing', 'casino', 'cast', 'casual', 'casually', 'cat', 'catalog', 'catalogues', 'catch', 'catches', 'catching', 'categories', 'category', 'cats', 'cattle', 'caught', 'cause', 'caused', 'causes', 'causing', 'caveat', 'caveats', 'caved', 'cbatteries', 'cd', 'cds', 'ceiling', 'cell', 'cello', 'cellophane', 'cellphone', 'cells', 'cellular', 'center', 'centers', 'central', 'centre', 'centres', 'centric', 'cents', 'certain', 'certainly', 'certainty', 'certificates', 'certified', 'ch', 'chacon', 'chaina', 'chair', 'chairs', 'chali', 'challenge', 'challenged', 'challenges', 'challenging', 'champ', 'chance', 'chanced', 'chances', 'chandigarh', 'change', 'changed', 'changer', 'changes', 'changesound', 'changing', 'channel', 'channels', 'chap', 'character', 'characters', 'charge', 'chargeable', 'charged', 'chargedit', 'charger', 'chargers', 'charges', 'chargin', 'charging', 'chargingbut4', 'chargingdraining', 'charm', 'charter', 'charts', 'chasing', 'chassis', 'chat', 'chatge', 'chatging', 'chats', 'chatta', 'chatted', 'chatter', 'cheap', 'cheaped', 'cheapens', 'cheaper', 'cheapest', 'cheaply', 'cheapness', 'cheapo', 'cheat', 'cheated', 'cheating', 'cheats', 'check', 'checked', 'checker', 'checking', 'checkout', 'checkup', 'cheep', 'cheesy', 'chemo', 'chennai', 'cheper', 'cherry', 'chest', 'chicken', 'child', 'childproof', 'children', 'childrens', 'childthis', 'chili', 'chime', 'china', 'chinees', 'chineese', 'chines', 'chinese', 'chinise', 'chip', 'chipper', 'chkoko', 'chocolate', 'choice', 'choices', 'choking', 'choose', 'chooses', 'choosing', 'chord', 'chores', 'chose', 'chottering', 'christmas', 'chroma', 'chromcast', 'chrome', 'chromecast', 'chronic', 'chtistmas', 'chugs', 'church', 'chutiya', 'ci300', 'circadian', 'circle', 'circuit', 'cities', 'citizen', 'city', 'claim', 'claimed', 'claimimg', 'claiming', 'claims', 'clamps', 'clans', 'clarify', 'clarity', 'clash', 'class', 'classes', 'classic', 'classical', 'classics', 'clean', 'cleaned', 'cleaner', 'cleaning', 'clear', 'cleared', 'clearer', 'clearing', 'clearity', 'clearly', 'clearly4', 'clearness', 'cleat', 'clerk', 'cliam', 'click', 'clicker', 'clicking', 'climbing', 'clinicals', 'clip', 'clips', 'clock', 'clocks', 'clog', 'clogs', 'close', 'closed', 'closely', 'closer', 'closes', 'closest', 'closet', 'closets', 'closing', 'closure', 'cloth', 'clothes', 'cloths', 'cloud', 'cloudcam', 'cloudtail', 'clr100', 'club', 'clubhouse', 'clue', 'clumsy', 'clunkier', 'clunky', 'clutter', 'cluttered', 'cmplaining', 'cnn', 'co', 'coat', 'coated', 'coating', 'coc', 'cod', 'code', 'coded', 'codes', 'coexist', 'coffee', 'coherent', 'coincidence', 'cold', 'coll', 'collar', 'colleague', 'colleagues', 'collect', 'collected', 'collecting', 'collection', 'collects', 'college', 'color', 'colored', 'colorful', 'coloring', 'colors', 'colour', 'colours', 'column', 'com', 'comands', 'comapre', 'combination', 'combine', 'combined', 'combo', 'comcast', 'come', 'comeon', 'comes', 'comfort', 'comfortability', 'comfortable', 'comfortably', 'comforting', 'comfy', 'comics', 'coming', 'comletely', 'command', 'commandconsit', 'commands', 'comment', 'commented', 'comments', 'commercial', 'commercials', 'commodore', 'common', 'commonly', 'commons', 'communicate', 'communicating', 'communication', 'communications', 'commute', 'commuting', 'compact', 'compacted', 'compair', 'companies', 'companion', 'company', 'comparability', 'comparable', 'compare', 'compared', 'compares', 'comparing', 'comparison', 'comparisons', 'compartment', 'compartments', 'compatable', 'compatibility', 'compatibilty', 'compatible', 'compensate', 'compete', 'competent', 'competes', 'competing', 'competition', 'competitive', 'competitively', 'competitor', 'competitors', 'complain', 'complained', 'complaining', 'complains', 'complaint', 'complaints', 'complants', 'complement', 'complete', 'completed', 'completely', 'completing', 'completion', 'completly', 'complex', 'compliant', 'complicated', 'complications', 'compliment', 'complint', 'comply', 'component', 'components', 'compony', 'composers', 'comprehensive', 'compression', 'compromise', 'compromised', 'compters', 'computer', 'computerized', 'computers', 'con', 'conceal', 'concentrate', 'concentrated', 'concept', 'concern', 'concerned', 'concerning', 'concerns', 'conceted', 'conch', 'concise', 'concluded', 'concluding', 'conclusion', 'condition', 'conditioned', 'conditioner', 'conditioning', 'conditions', 'conduct', 'conecctions', 'conection', 'conectivity', 'conference', 'conferencing', 'confidence', 'confident', 'configurable', 'configuration', 'configure', 'configured', 'configuring', 'confirm', 'confirmation', 'confirmed', 'conformable', 'confused', 'confusing', 'confusion', 'congregating', 'conjunction', 'conk', 'conked', 'conncentrate', 'connect', 'connectable', 'connected', 'connecting', 'connection', 'connections', 'connective', 'connectivity', 'connector', 'connectors', 'connects', 'connet', 'conneted', 'connoisseur', 'conpack', 'cons', 'consall', 'conscious', 'consent', 'consequently', 'conservative', 'consice', 'consider', 'considerable', 'considerably', 'considerate', 'consideration', 'considered', 'considering', 'consistent', 'consistently', 'console', 'consoverall', 'constant', 'constantly', 'constructed', 'construction', 'consulting', 'consume', 'consumer', 'consumers', 'consuming', 'consumption', 'contaced', 'contact', 'contacted', 'contacting', 'contacts', 'contain', 'contained', 'containg', 'containment', 'contains', 'contemplating', 'contemporary', 'content', 'contents', 'context', 'continoluous', 'continously', 'continually', 'continue', 'continued', 'continues', 'continuing', 'continuous', 'continuously', 'contol', 'contract', 'contrast', 'control', 'controle', 'controler', 'controling', 'controlled', 'controller', 'controllers', 'controlling', 'controls', 'convenience', 'convenient', 'conversation', 'conversations', 'converse', 'conversion', 'convert', 'converted', 'convey', 'convienent', 'convienient', 'convince', 'convinced', 'convincing', 'cook', 'cookbook', 'cookbooks', 'cookies', 'cooking', 'cool', 'coolest', 'coolidge', 'cooling', 'coop', 'cooperate', 'cope', 'copies', 'copper', 'copy', 'copywriter', 'cord', 'cords', 'cordstained', 'core', 'corner', 'corners', 'correct', 'corrected', 'correctly', 'correctlybattery', 'corrects', 'corroded', 'corrosion', 'corrosive', 'corrupt', 'corrupted', 'cortonna', 'cos', 'cost', 'costco', 'costed', 'costing', 'costly', 'costlywas', 'costs', 'couch', 'coughing', 'could', 'couldn', 'couldnt', 'count', 'counted', 'counter', 'counters', 'countertop', 'counting', 'countless', 'countries', 'country', 'counts', 'county', 'couple', 'coupled', 'courier', 'couriered', 'course', 'courses', 'courtesy', 'cousin', 'cousins', 'cover', 'coverage', 'covered', 'covererd', 'covering', 'coverings', 'covers', 'coz', 'cozi', 'cpu', 'cpus', 'crack', 'cracked', 'cracking', 'crackles', 'crackling', 'cracks', 'cradle', 'craft', 'craftsmenship', 'craig', 'craigslist', 'crank', 'cranky', 'crap', 'crapped', 'crappy', 'crash', 'crashed', 'crashes', 'craze', 'crazy', 'cream', 'create', 'created', 'creates', 'creating', 'creative', 'creativity', 'credit', 'cree', 'crestron', 'crime', 'criminal', 'crisp', 'crisper', 'cristmas', 'criteria', 'critical', 'criticism', 'croma', 'crooks', 'cross', 'crossed', 'crossword', 'crosswords', 'crowd', 'crowded', 'crucial', 'cruise', 'cruising', 'crumbled', 'crumpled', 'crush', 'crushed', 'cry', 'crying', 'crystal', 'cs', 'ct', 'cud', 'cuff', 'culprit', 'cult', 'cumbersome', 'cumulative', 'cumulatively', 'cunected', 'cup', 'curious', 'curr', 'current', 'currently', 'currr', 'curve', 'curved', 'cushioning', 'cushions', 'custom', 'customer', 'customercare', 'customers', 'customizable', 'customization', 'customize', 'customized', 'custumer', 'cut', 'cute', 'cuts', 'cutters', 'cutting', 'cuz', 'cx', 'cx180', 'cx213', 'cx215', 'cx275', 'cx275s', 'cycle', 'cycled', 'cycling', 'cylinder', 'd', 'd600', 'daali', 'dad', 'daddy', 'daily', 'dall', 'damage', 'damaged', 'damages', 'damaging', 'damged', 'damn', 'dan', 'dance', 'dangerous', 'dangers', 'dap', 'dark', 'darker', 'darn', 'darood', 'dash', 'dat', 'data', 'database', 'date', 'dates', 'daughter', 'daughters', 'daugter', 'dauther', 'day', 'daycare', 'daylight', 'days', 'daysit', 'daysthe', 'daytime', 'dc', 'deactivated', 'dead', 'deadbolt', 'deadline', 'deaf', 'deal', 'dealer', 'dealing', 'deals', 'dealt', 'dear', 'death', 'debate', 'debated', 'debating', 'dec', 'decade', 'decades', 'decay', 'deceased', 'deceived', 'december', 'decent', 'decentcon', 'decently', 'deceptive', 'deceptively', 'decice', 'decide', 'decided', 'deciding', 'decision', 'deck', 'declining', 'decode', 'decoded', 'decoding', 'decor', 'decoration', 'decorations', 'decorative', 'decrease', 'decreased', 'decreases', 'decreasing', 'ded', 'dedicated', 'deep', 'deeper', 'deeply', 'def', 'default', 'defaulty', 'defeat', 'defeats', 'defect', 'defected', 'defective', 'defectlve', 'defects', 'defender', 'defiantly', 'deficits', 'define', 'definetly', 'definite', 'definitely', 'definition', 'definitions', 'defintely', 'defribrilator', 'defuctive', 'degradation', 'degrade', 'degraded', 'degrades', 'degree', 'degrees', 'delay', 'delayed', 'delegating', 'delete', 'deleted', 'deletion', 'delevered', 'delhi', 'delicate', 'delicated', 'delighted', 'deliver', 'delivered', 'deliveres', 'delivering', 'delivers', 'delivery', 'delte', 'demand', 'demands', 'demensions', 'dementia', 'demerit', 'demiage', 'demo', 'demon', 'demons', 'demonstrate', 'demonstrated', 'demonstrates', 'den', 'denied', 'dentist', 'deodorizer', 'department', 'depend', 'dependability', 'dependable', 'dependent', 'depending', 'depends', 'depleted', 'deployment', 'deposited', 'depot', 'depth', 'descent', 'desciples', 'describe', 'described', 'describing', 'description', 'descriptionbuild', 'descriptions', 'desent', 'deserted', 'deserve', 'deserves', 'design', 'designed', 'designing', 'designoverall', 'designs', 'desire', 'desired', 'desires', 'desk', 'desktop', 'despise', 'despite', 'destroy', 'destroyed', 'destroying', 'destructive', 'detachable', 'detached', 'detail', 'detailed', 'detailing', 'details', 'detect', 'detected', 'detecting', 'detector', 'detectors', 'deteriorated', 'deteriorates', 'deterioration', 'determination', 'determine', 'determined', 'deterotiated', 'deterred', 'detoriated', 'detracts', 'develop', 'developed', 'developing', 'development', 'device', 'devicealthough', 'deviceno', 'devices', 'devise', 'devises', 'devive', 'dheere', 'dia', 'dial', 'dialing', 'dialogues', 'dials', 'diameter', 'diamond', 'diapointed', 'diarrhoea', 'diatribe', 'dice', 'diconnect', 'dictate', 'dictionaries', 'dictionary', 'did', 'didint', 'didn', 'didnot', 'didnt', 'didon', 'die', 'died', 'diego', 'dies', 'diffected', 'differ', 'difference', 'differencei', 'differences', 'different', 'differentiate', 'differentiator', 'differently', 'differents', 'difficult', 'difficulty', 'diffrent', 'diffused', 'diffuser', 'difiitioin', 'dig', 'digging', 'digiland', 'digital', 'digitally', 'dil', 'dim', 'dime', 'dimension', 'dimes', 'diminishes', 'dimmed', 'dimmer', 'dimming', 'dims', 'din', 'ding', 'dingy', 'dinner', 'dint', 'direct', 'directed', 'direction', 'directional', 'directions', 'directly', 'directnow', 'directtv', 'directv', 'dirt', 'dirty', 'dis', 'disabilities', 'disability', 'disable', 'disabled', 'disadvantage', 'disallow', 'disallows', 'disappear', 'disappearing', 'disappears', 'disappoint', 'disappointed', 'disappointedone', 'disappointedpros', 'disappointing', 'disappointment', 'disappoints', 'disapproval', 'disarming', 'disaster', 'disastrous', 'disbelief', 'disbursed', 'disc', 'discard', 'discared', 'discerning', 'discharge', 'discharged', 'discharges', 'discharging', 'disclosure', 'discoloration', 'discomfort', 'discomfortyou', 'disconcerting', 'disconncests', 'disconnect', 'disconnected', 'disconnectent', 'disconnecting', 'disconnection', 'disconnects', 'disconnting', 'discontinue', 'discontinued', 'discord', 'discount', 'discounted', 'discounts', 'discountsworst', 'discourage', 'discover', 'discoverable', 'discovered', 'discovering', 'discs', 'disease', 'disgrace', 'disgraceful', 'disgusted', 'disgustedthis', 'disgusting', 'dish', 'disheartened', 'disheartening', 'dishes', 'disintegrating', 'dislike', 'dislikes', 'dismantled', 'dismiss', 'disney', 'disneyland', 'dispatching', 'dispenser', 'dispensers', 'dispite', 'display', 'displayed', 'displaying', 'displaynice', 'displays', 'displeased', 'dispointed', 'disposable', 'disposal', 'dispose', 'disposed', 'disposing', 'disproportionate', 'disregarging', 'disruption', 'disruptionsometimes', 'disrupts', 'dissapointed', 'dissapointing', 'dissapoontment', 'dissappintes', 'dissappointed', 'dissatisfied', 'dissatisfying', 'disspointed', 'distance', 'distanceit', 'distances', 'distinction', 'distorted', 'distorting', 'distortion', 'distrabance', 'distract', 'distracted', 'distracting', 'distractingcomes', 'distraction', 'distractions', 'distracts', 'distribute', 'distributed', 'district', 'distrotion', 'distrubance', 'distubance', 'disturb', 'disturbance', 'disturbances', 'disturbed', 'disturbence', 'disturbing', 'disturbs', 'ditch', 'diverse', 'divide', 'divided', 'division', 'divorced', 'diwali', 'diya', 'dizzying', 'dj', 'dl', 'dmv', 'dnt', 'do', 'doa', 'doc', 'dock', 'docket', 'docs', 'doctor', 'doctors', 'document', 'documentaries', 'documents', 'docx', 'does', 'doesn', 'doesnot', 'doesnt', 'dog', 'dogs', 'doing', 'dolby', 'dollar', 'dollars', 'dominance', 'dominate', 'dominates', 'don', 'don3', 'done', 'dongle', 'donnot', 'donot', 'dont', 'donuts', 'doodads', 'doomed', 'door', 'doorbell', 'doorbells', 'doors', 'dope', 'dor', 'dorm', 'dormant', 'dos', 'dose', 'dosent', 'dot', 'dots', 'double', 'doubles', 'doubt', 'doubts', 'dound', 'down', 'downfall', 'downgrade', 'downgraded', 'download', 'downloaded', 'downloading', 'downloads', 'downside', 'downstairs', 'downtime', 'dozen', 'dozens', 'dp', 'dpi', 'drag', 'dragging', 'drain', 'drained', 'draining', 'drainingit', 'drains', 'dramatic', 'dramatically', 'drastically', 'draw', 'drawback', 'drawbacks', 'drawer', 'draws', 'dreaded', 'dream', 'dreams', 'drean', 'dreregistering', 'dresser', 'dries', 'drift', 'drink', 'drinks', 'drive', 'driver', 'drivers', 'driving', 'drizzle', 'drm', 'droid', 'drone', 'drop', 'dropbox', 'droping', 'dropped', 'dropping', 'drops', 'drove', 'drs', 'drums', 'dry', 'dryer', 'ds', 'dt', 'dual', 'dubbles', 'dubilicate', 'dubious', 'dublicate', 'dublicute', 'dud', 'duds', 'due', 'duh', 'dull', 'dumb', 'dumbed', 'dump', 'dumped', 'dumps', 'dun', 'dung', 'duplicate', 'duplicte', 'dur', 'durability', 'durable', 'durable2', 'duracel', 'duracell', 'duracells', 'duracellslast', 'duracels', 'duration', 'durcell', 'during', 'durrible', 'dust', 'dut', 'duties', 'duty', 'dvd', 'dwarfs', 'dwn', 'dx', 'dying', 'dynamic', 'dysfunctional', 'dyslexic', 'e', 'e10c', 'e250519', 'ea', 'each', 'eadphone', 'eagerley', 'eagerly', 'eair', 'ear', 'ear5', 'earbirds', 'earbud', 'earbuds', 'eardrum', 'eared', 'earephone', 'earfone', 'earhone', 'earlier', 'earliest', 'early', 'earn', 'earned', 'earning', 'earpads', 'earpeace', 'earpeice', 'earphn', 'earphome', 'earphone', 'earphonea', 'earphoneno', 'earphones', 'earphonesgenuinely', 'earpiece', 'earpieces', 'earplug', 'earplugs', 'earpod', 'earpode', 'earpods', 'ears', 'earside', 'earsno', 'earsnot', 'earsound', 'earth', 'eartips', 'eas', 'ease', 'easier', 'easiest', 'easily', 'easilynot', 'easiness', 'east', 'easter', 'easy', 'easyer', 'eat', 'eatching', 'eating', 'eats', 'eavsdropping', 'ebay', 'ebook', 'ebooks', 'ebookwhich', 'ec', 'ech', 'echo', 'echoes', 'echos', 'eco', 'ecommerce', 'economical', 'economist', 'ecosphere', 'ecosystem', 'ect', 'ed', 'edge', 'edit', 'edited', 'editing', 'edition', 'editions', 'edm', 'educated', 'education', 'educational', 'effect', 'effective', 'effectively', 'effects', 'efficient', 'efficiently', 'effort', 'effortlessly', 'eg', 'egg', 'egregious', 'eh', 'ehh', 'eight', 'eighth', 'einstein', 'either', 'eithin', 'ejected', 'ek', 'ekdum', 'el', 'elastic', 'elderly', 'elders', 'electric', 'electrical', 'electricity', 'electronic', 'electronically', 'electronics', 'elegant', 'element', 'elements', 'elephant', 'elephants', 'elevate', 'elexa', 'elexia', 'eligible', 'eliminate', 'eliminated', 'elite', 'elliptical', 'elmer', 'elmo', 'else', 'elsewhere', 'em', 'email', 'emailed', 'emails', 'emanated', 'embarrassing', 'embrace', 'emergency', 'emerging', 'emitting', 'emphasis', 'emphasizing', 'employee', 'employees', 'emptor', 'emptt', 'empty', 'enable', 'enabled', 'enables', 'enabling', 'enclosure', 'encounter', 'encountered', 'encourage', 'encouraged', 'encourages', 'end', 'ended', 'ending', 'endless', 'endorsed', 'endorsement', 'endurance', 'endured', 'eneloop', 'enemies', 'enemy', 'enen', 'energized', 'energizer', 'energizers', 'energy', 'energysmart', 'engage', 'engaged', 'engine', 'engineered', 'engineering', 'england', 'english', 'enhance', 'enhancements', 'enhances', 'enjoy', 'enjoyable', 'enjoyed', 'enjoyes', 'enjoying', 'enjoyment', 'enjoys', 'enlarge', 'enlarges', 'enough', 'enough2', 'enought', 'ensure', 'entangled', 'entension', 'enter', 'entered', 'entering', 'entertain', 'entertained', 'entertaining', 'entertainment', 'entertains', 'enthusiast', 'entice', 'enticed', 'entire', 'entirely', 'entries', 'entry', 'environment', 'environments', 'epad', 'epaper', 'episode', 'episodes', 'epub', 'eqrs', 'equal', 'equalised', 'equaliser', 'equalizer', 'equally', 'equate', 'equates', 'equation', 'equilizer', 'equip', 'equipment', 'equipped', 'equivalent', 'equlilizer', 'eraphone', 'erasing', 'ereader', 'ereaders', 'ereading', 'erection', 'ergomatic', 'ergonomic', 'ergonomically', 'eritating', 'eroded', 'erodes', 'errand', 'erroneous', 'error', 'errors', 'es', 'escalated', 'escaped', 'esp', 'especially', 'espn3', 'essential', 'essentially', 'establish', 'estate', 'estimate', 'estimation', 'et', 'eta', 'etc', 'ether', 'ethernet', 'etta', 'evaluating', 'evaluation', 'eve', 'even', 'evening', 'evenings', 'evenly', 'event', 'eventhough', 'events', 'eventually', 'ever', 'everbought', 'everday', 'eveready', 'everready', 'every', 'everybody', 'everyday', 'everynight', 'everyone', 'everything', 'everytime', 'everywhere', 'evn', 'evolution', 'evolve', 'ex', 'ex30', 'exact', 'exactly', 'exaggerated', 'exaggerating', 'example', 'examples', 'exasperated', 'exceed', 'exceeded', 'exceeding', 'exceeds', 'excellent', 'excellentits', 'except', 'exception', 'exceptional', 'excess', 'exchangable', 'exchange', 'exchanged', 'exchanges', 'exchanging', 'excited', 'excitedly', 'excitement', 'exciting', 'excluding', 'exclusively', 'excrement', 'excuse', 'execution', 'executive', 'exercise', 'exercises', 'exercising', 'exhaust', 'exist', 'existed', 'existent', 'existing', 'exit', 'expand', 'expandable', 'expanded', 'expanding', 'expands', 'expansion', 'expansive', 'expeced', 'expect', 'expectancy', 'expectation', 'expectationin', 'expectations', 'expected', 'expecting', 'expection', 'expects', 'expense', 'expenses', 'expensive', 'expensivewith', 'experia', 'experice', 'experience', 'experienced', 'experiencedont', 'experiences', 'experiencing', 'experimental', 'experiments', 'expert', 'expiration', 'expired', 'expirence', 'expires', 'explain', 'explained', 'explaining', 'explode', 'exploded', 'explore', 'explored', 'explorers', 'exploring', 'exploted', 'exploxed', 'exponentially', 'expose', 'exposed', 'exposure', 'expressed', 'expression', 'exprience', 'extemely', 'extend', 'extended', 'extension', 'extensive', 'extensively', 'extent', 'external', 'extra', 'extras', 'extreme', 'extremely', 'eye', 'eyer', 'eyes', 'eyesight', 'ez', 'f', 'f1', 'f1s', 'f450', 'faaaar', 'faaltu', 'fabric', 'face', 'facebook', 'faced', 'faceing', 'faces', 'facetime', 'facets', 'facilitates', 'facility', 'facing', 'fack', 'fact', 'factor', 'factory', 'facts', 'fade', 'faded', 'fades', 'fail', 'failed', 'failerd', 'failing', 'fails', 'failure', 'fair', 'fairly', 'faith', 'fake', 'fakeas', 'fakemy', 'fakethis', 'falcon', 'fall', 'fallen', 'fallin', 'falling', 'falls', 'false', 'falsely', 'fam', 'familiar', 'families', 'family', 'fan', 'fanatic', 'fanboy', 'fancier', 'fanciest', 'fancy', 'fans', 'fantastic', 'fantastically', 'faqs', 'far', 'fare', 'farm', 'farmers', 'farms', 'fas', 'fast', 'fastbooth', 'fastening', 'faster', 'fastest', 'fat', 'fat32', 'fatela', 'father', 'fatigue', 'fault', 'faults', 'faulty', 'fauly', 'faved', 'favor', 'favorite', 'favorites', 'fb', 'feable', 'feachers', 'feather', 'feature', 'featured', 'features', 'features2', 'feaures', 'feb', 'february', 'fed', 'fee', 'feeble', 'feed', 'feedback', 'feeds', 'feel', 'feeling', 'feelingthought', 'feels', 'fees', 'feet', 'fell', 'fellas', 'felling', 'fells', 'felt', 'female', 'fence', 'fenced', 'fenix', 'festival', 'feviquick', 'few', 'fi', 'fianc', 'fiance', 'fiber', 'fiction', 'fiddle', 'field', 'fifteen', 'fifth', 'fifty', 'fight', 'fighting', 'figure', 'figured', 'figures', 'figuring', 'file', 'files', 'fill', 'filled', 'filling', 'fills', 'film', 'films', 'filmsy', 'filter', 'filtered', 'final', 'finally', 'finance', 'financial', 'find', 'finding', 'finds', 'fine', 'finepix', 'finer', 'finger', 'fingerprints', 'fingers', 'fingertips', 'finicky', 'finish', 'finished', 'finishing', 'finnaly', 'fios', 'fir', 'fire', 'fire8', 'fired', 'firefox', 'firehd', 'firends', 'fires', 'firestick', 'firesticks', 'firetv', 'firetv1', 'firetv2', 'firm', 'firmly', 'firmware', 'first', 'firstly', 'fish', 'fishing', 'fit', 'fitable', 'fitbit', 'fiting', 'fitness', 'fits', 'fitted', 'fitting', 'five', 'fix', 'fixed', 'fixes', 'fixing', 'fixture', 'fizzling', 'flag', 'flame', 'flameless', 'flap', 'flash', 'flashes', 'flashing', 'flashlight', 'flashlights', 'flat', 'flatness', 'flaw', 'flawless', 'flawlessly', 'flaws', 'flex', 'flexibility', 'flexible', 'flicked', 'flicker', 'flickers', 'flicking', 'flight', 'flights', 'flimsy', 'flip', 'flipkart', 'flipping', 'floodlights', 'floor', 'floors', 'flop', 'floppy', 'florida', 'flour', 'flow', 'flowers', 'flowing', 'fluctuatingsometimes', 'fluid', 'fluidity', 'fluke', 'flush', 'fly', 'flybot', 'flying', 'fm', 'fo', 'fo4', 'foam', 'focus', 'focused', 'foe', 'fold', 'folder', 'folders', 'foldover', 'folds', 'folks', 'follow', 'followed', 'following', 'follows', 'fondle', 'fone', 'font', 'fonts', 'food', 'fool', 'fooled', 'fooling', 'foolish', 'foolishly', 'fools', 'foot', 'footage', 'football', 'footpath', 'for', 'foray', 'forcast', 'force', 'forced', 'forcefully', 'forces', 'forecast', 'forefront', 'foreground', 'foreign', 'foremost', 'forever', 'forget', 'forgetting', 'forgive', 'forgives', 'forgot', 'forgotten', 'fork', 'form', 'format', 'formated', 'formatted', 'former', 'formerly', 'formidable', 'forming', 'forst', 'fort', 'forte', 'forth', 'fortnight', 'fortunately', 'forums', 'forward', 'forwarded', 'fot', 'fought', 'fouled', 'found', 'fountains', 'four', 'fourth', 'fox', 'fps', 'fr', 'fraction', 'fragile', 'frame', 'francisco', 'frank', 'frankly', 'fraud', 'freak', 'freaked', 'freaking', 'free', 'freeand', 'freebies', 'freedom', 'frees', 'freetime', 'freetimeunlimited', 'freevery', 'freeze', 'freezes', 'freezesscreen', 'freezing', 'freight', 'freind', 'freq', 'frequency', 'frequent', 'frequentely', 'frequently', 'frequentlywhen', 'fresh', 'freshener', 'freshness', 'friday', 'fridaypros', 'fried', 'friend', 'friendky', 'friendly', 'friends', 'frills', 'frist', 'frm', 'frnd', 'frnds', 'frndz', 'fro', 'from', 'front', 'fronts', 'frother', 'froze', 'frozen', 'frugal', 'frustrated', 'frustrating', 'frustration', 'frys', 'fs1', 'ft', 'fud', 'fulfill', 'fulfilled', 'fulfils', 'full', 'fully', 'fumbling', 'fun', 'func', 'functinality', 'function', 'functional', 'functionalities', 'functionality', 'functionally', 'functioned', 'functioning', 'functions', 'fundamentally', 'fundraiser', 'funny', 'funtional', 'furbished', 'furnace', 'further', 'furtherplease', 'fused', 'fuss', 'futon', 'future', 'fuzzy', 'g', 'g2', 'g5s', 'gaandu', 'gadget', 'gadgets', 'gain', 'gains', 'galaxy', 'game', 'gamecircle', 'gameplay', 'gamer', 'games', 'gaming', 'gamingand', 'gap', 'gaps', 'gar', 'garage', 'garbage', 'garden', 'gathering', 'gauge', 'gaurrantte', 'gave', 'gaya', 'gb', 'gear', 'geared', 'geating', 'geek', 'geeks', 'gem', 'gen', 'general', 'generally', 'generation', 'generator', 'generic', 'generics', 'generous', 'generously', 'genre', 'gently', 'genuine', 'genuinely', 'germany', 'gesr', 'get', 'getjar', 'gets', 'getting', 'getz', 'gf', 'ghantaaalow', 'ghatiya', 'ghaziabad', 'ghosting', 'ghtya', 'giant', 'gift', 'gifted', 'gifting', 'gifts', 'gig', 'gigabit', 'gigabytes', 'gigahertz', 'gigs', 'gime', 'gimmick', 'gimmicks', 'gimmicky', 'girl', 'girlfriend', 'girls', 'git', 'give', 'giveaway', 'given', 'gives', 'giving', 'gizmo', 'gl', 'glad', 'glance', 'glare', 'glass', 'glasses', 'glear', 'glitch', 'glitches', 'glitching', 'glitchy', 'gloves', 'glow', 'glowing', 'glowlight', 'glows', 'glue', 'glued', 'gmail', 'go', 'goa', 'goal', 'goals', 'god', 'godchild', 'godsend', 'godson', 'goes', 'goggle', 'goggleplay', 'goggles', 'going', 'goings', 'gold', 'golden', 'gon', 'gone', 'good', 'good3', 'good4', 'goodagood', 'goodand', 'goodauto', 'goodbass', 'goodbattery', 'goodbut', 'goodcons', 'goodexcellent', 'goodfor', 'goodi', 'goodidn', 'goodies', 'goodmaintaining', 'goodmy', 'goodness', 'goodnight', 'goodno', 'goodplease', 'goodreads', 'goodreally', 'goods', 'goodwhile', 'goodwifi', 'goog', 'google', 'googleplay', 'googling', 'gooooood', 'gor', 'gorgeous', 'got', 'goto', 'gotten', 'gp', 'gps', 'gpu', 'gr8', 'grab', 'grabbed', 'grabs', 'grade', 'graded', 'gradually', 'graduate', 'grand', 'grandaughter', 'grandaughters', 'grandchild', 'grandchildren', 'grandchridren', 'granddaughter', 'granddaughters', 'granddaugter', 'granddaugther', 'grandfather', 'grandfaughter', 'grandkids', 'grandma', 'grandmother', 'grandniece', 'grandpa', 'grandparents', 'grandson', 'grandsons', 'granted', 'graphic', 'graphics', 'grate', 'grateful', 'gratification', 'gratifying', 'gravitated', 'gravity', 'gray', 'great', 'greatcons', 'greater', 'greatest', 'greatly', 'greats', 'greatwas', 'greed', 'greedy', 'greek', 'green', 'greenish', 'grey', 'grinder', 'grinds', 'grins', 'grip', 'gripper', 'gripping', 'grips', 'groans', 'groceries', 'grocery', 'grom', 'ground', 'group', 'groupon', 'groups', 'grow', 'grown', 'grownup', 'grows', 'grt', 'gs', 'guam', 'guarantee', 'guaranteed', 'guarantees', 'guard', 'guards', 'gud', 'gudnd', 'guess', 'guessed', 'guessing', 'guest', 'guests', 'guide', 'guidelines', 'guitar', 'guitars', 'gujarat', 'gujrat', 'gullible', 'gum', 'gummy', 'gun', 'gunmen', 'guns', 'guppies', 'gurgaon', 'gurugram', 'guruji', 'guy', 'guys', 'guyshighly', 'guyssound', 'guysthankssekhar', 'guyz', 'gyi', 'gym', 'gyming', 'h', 'ha', 'habe', 'habit', 'hack', 'hackers', 'hacks', 'had', 'hadbluetooth', 'hadn', 'hadnt', 'haha', 'hai', 'hair', 'hairband', 'haircut', 'half', 'hall', 'halloween', 'hallway', 'hama', 'hand', 'handbag', 'handed', 'handel', 'handfree', 'handfrees', 'handful', 'handheld', 'handicapped', 'handle', 'handled', 'handles', 'handling', 'handlingsound', 'handover', 'hands', 'handset', 'handsfree', 'handy', 'hanfree', 'hang', 'hanging', 'hangs', 'happen', 'happend', 'happened', 'happening', 'happens', 'happier', 'happiness', 'happy', 'haptic', 'harbor', 'hard', 'hardback', 'hardcover', 'harder', 'hardly', 'hards', 'hardship', 'hardware', 'hardwark', 'hardwired', 'hardwood', 'harman', 'harmful', 'harmless', 'harmony', 'harms', 'harsh', 'haryana', 'has', 'hasmore', 'hasn', 'hasnt', 'hassle', 'hassles', 'hate', 'hated', 'hates', 'hav', 'have', 'haven', 'having', 'havoc', 'hawaii', 'hazardous', 'hazy', 'hbo', 'hd', 'hd10', 'hd6', 'hd7', 'hd8', 'hdmi', 'hdr', 'hds', 'hdtv', 'hdx', 'he', 'heaadpones', 'head', 'headache', 'headfone', 'headfones', 'headfos', 'heading', 'headlamp', 'headlines', 'headph', 'headphon', 'headphone', 'headphonejbl', 'headphones', 'headphonevery', 'headpu', 'heads', 'headset', 'headsets', 'health', 'hear', 'heard', 'heardproduct', 'hearing', 'hears', 'heart', 'hearts', 'heat', 'heated', 'heater', 'heating', 'heats', 'heaven', 'heavier', 'heavily', 'heavy', 'heck', 'hectic', 'hecticmy', 'hed', 'hedset', 'heft', 'hefty', 'hehehe', 'held', 'hell', 'hello', 'helmet', 'help', 'helped', 'helpful', 'helpfull', 'helpine', 'helping', 'helpless', 'helps', 'helpthanks', 'hence', 'hendset', 'hepatic', 'her', 'here', 'hers', 'herself', 'hesitant', 'hesitating', 'hevc', 'hey', 'hi', 'hi10p', 'hiccups', 'hidden', 'hides', 'high', 'higher', 'highest', 'highlight', 'highlights', 'highly', 'highlyit', 'highnot', 'highs', 'highsevere', 'hiking', 'hilariously', 'him', 'himself', 'hindrance', 'hindsight', 'hinge', 'hint', 'hip', 'hippressurecooking', 'hire', 'his', 'hiss', 'hissing', 'history', 'hit', 'hitch', 'hitting', 'hl23', 'hmmm', 'hmmmm', 'ho', 'hockey', 'hogging', 'hoghly', 'hogs', 'hold', 'holder', 'holders', 'holding', 'holds', 'hole', 'holes', 'holiday', 'holidays', 'hollow', 'hologram', 'holographic', 'holter', 'home', 'homebase', 'homekit', 'homepage', 'homer', 'homes', 'hometown', 'homework', 'hone', 'honeatly', 'honest', 'honestly', 'honeywell', 'honor', 'honored', 'honour', 'hook', 'hooked', 'hooks', 'hoops', 'hoot', 'hop', 'hope', 'hoped', 'hopeful', 'hopefully', 'hopeless', 'hopes', 'hoping', 'hopless', 'horizons', 'horizontal', 'horoscope', 'horrable', 'horrendous', 'horrible', 'horribly', 'horror', 'horsepower', 'hosed', 'hospital', 'host', 'hosting', 'hot', 'hota', 'hotels', 'hotspot', 'hottest', 'hould', 'hound', 'hour', 'hours', 'hours3', 'hourssound', 'house', 'housed', 'household', 'houses', 'housework', 'hover', 'how', 'however', 'howto', 'hr', 'hrs', 'hrsok', 'hs', 'hsve', 'htc', 'html', 'http', 'https', 'hu', 'huawei', 'hub', 'hubby', 'hubs', 'hue', 'huetoo', 'huff', 'huge', 'hugely', 'hugged', 'hugh', 'huh', 'hulu', 'human', 'humans', 'humble', 'humbug', 'humidity', 'humming', 'hundred', 'hundreds', 'hung', 'hunting', 'hurry', 'hurt', 'hurting', 'hurts', 'husband', 'husbandhe', 'husbands', 'hv', 'hw', 'hybrid', 'hyderabad', 'hymn', 'hype', 'hyped', 'i', 'i6s', 'ia', 'iam', 'iball', 'iceberg', 'icloud', 'icon', 'icons', 'id', 'idea', 'ideal', 'ideas', 'identical', 'identify', 'identity', 'idiot', 'idiots', 'idisappointed', 'idk', 'idle', 'ie', 'if', 'ifeel', 'iffy', 'ignorant', 'ignore', 'ignored', 'ignores', 'iheart', 'ihome', 'ii', 'iives', 'ill', 'illumination', 'illusion', 'ilovemy', 'im', 'image', 'images', 'imaginably', 'imagine', 'imagined', 'imbalanced', 'imho', 'immediate', 'immediately', 'immense', 'immensely', 'immersive', 'immidiately', 'imo', 'imp', 'impact', 'impaired', 'implementation', 'implemented', 'implementing', 'importance', 'important', 'importantly', 'imported', 'impossible', 'impossibly', 'impress', 'impressed', 'impression', 'impressions', 'impressive', 'improove', 'improve', 'improved', 'improvement', 'improvementand', 'improvements', 'improves', 'improving', 'impulse', 'impure', 'in', 'ina', 'inability', 'inaccessible', 'inaccurate', 'inadvertently', 'inappropriate', 'inbetween', 'inbox', 'inbuilt', 'incase', 'inch', 'inches', 'incident', 'include', 'included', 'includes', 'including', 'inclusion', 'income', 'incoming', 'incompatible', 'incompetent', 'incomplete', 'inconsistent', 'inconvenience', 'inconvenienced', 'inconvenient', 'incorporates', 'increase', 'increased', 'increases', 'increasing', 'incredible', 'incredibly', 'incremental', 'incurred', 'indeed', 'independant', 'independence', 'indestructible', 'india', 'indian', 'indians', 'indicated', 'indicates', 'indication', 'indicationit', 'indications', 'indicator', 'indicators', 'indispensable', 'individual', 'individually', 'individuals', 'indonesia', 'indoor', 'indoors', 'inducing', 'indulge', 'industry', 'inear', 'inedible', 'ineffective', 'ineligible', 'ines', 'inexpeisve', 'inexpensive', 'inexpensiveexpandable', 'infact', 'infamous', 'infat', 'infect', 'inferior', 'inferno', 'infinite', 'influence', 'info', 'inform', 'information', 'informative', 'informed', 'informs', 'infrared', 'infrequent', 'infrequently', 'ing', 'inherited', 'initial', 'initially', 'initiate', 'initiated', 'injoy', 'ink', 'inline', 'inna', 'inner', 'innovative', 'input', 'inputs', 'inputting', 'inquiries', 'inquiring', 'inquisitive', 'inr', 'insane', 'insensitive', 'insert', 'inserted', 'inserting', 'inserts', 'inside', 'insight', 'insignia', 'insisting', 'inspect', 'inspection', 'insread', 'insta', 'instagram', 'install', 'installation', 'installed', 'installedtouch', 'installing', 'instance', 'instances', 'instant', 'instantly', 'instead', 'insteon', 'instruction', 'instructional', 'instructions', 'instrument', 'instrumental', 'instruments', 'insulation', 'insulin', 'insult', 'insurance', 'insure', 'intact', 'integrate', 'integrated', 'integrates', 'integration', 'intelligence', 'intelligent', 'intelligently', 'intended', 'intense', 'intensity', 'intention', 'interact', 'interaction', 'interactive', 'interacts', 'interchangeable', 'intercom', 'intercoms', 'interest', 'interested', 'interesting', 'interface', 'interfaceneeds', 'interfacing', 'interfere', 'interfering', 'intermittent', 'intermittently', 'internal', 'internally', 'internals', 'internet', 'interpreted', 'interrupt', 'interrupted', 'interrupting', 'interruption', 'interruptions', 'intervals', 'intervention', 'intially', 'intimation', 'into', 'introduce', 'introduced', 'introduction', 'intrusive', 'intuitive', 'invaluable', 'invasive', 'invent', 'invention', 'inverted', 'invest', 'invested', 'investigate', 'investigative', 'investing', 'investment', 'invitations', 'invoice', 'involve', 'involved', 'ion', 'ios', 'ioss', 'iot', 'ipad', 'ipads', 'iphone', 'iphone6', 'iphones', 'ipod', 'ipods', 'ir', 'ireader', 'iris', 'irresponsible', 'irritate', 'irritated', 'irritates', 'irritating', 'irritation', 'irritational', 'irrritating', 'is', 'is1', 'ise', 'iseme', 'ish', 'isjust', 'isko', 'isles', 'isn', 'isnt', 'isolation', 'issu', 'issue', 'issueafter', 'issued', 'issueeven', 'issuei', 'issues', 'issuessound', 'isulation', 'it', 'ita', 'itam', 'itamazon', 'itching', 'itd', 'item', 'itemcharging', 'itemit', 'items', 'itemwastage', 'ithe', 'iti', 'itit', 'itl', 'itni', 'itom', 'its', 'itseems', 'itself', 'itsound', 'itt', 'ittcalls', 'itthe', 'itunes', 'itwhat', 'ive', 'ixl', 'j', 'j509', 'j7', 'jabra', 'jack', 'jacket', 'jacks', 'jail', 'james', 'jamica', 'jammed', 'jan', 'jana', 'january', 'janury', 'japanese', 'jaruri', 'jati', 'jays', 'jazz', 'jb', 'jbl', 'jbl110bt', 'jblafter', 'jblquality', 'jblt200a', 'jealous', 'jean', 'jeans', 'jeff', 'jeopardy', 'jerk', 'jet', 'jhumkaas', 'jimmie', 'jissela', 'jk150601', 'job', 'jog', 'jogging', 'johnny', 'join', 'joined', 'joining', 'joke', 'joked', 'jokers', 'jokes', 'jon', 'jot', 'joule', 'journal', 'journalist', 'journey', 'joy', 'jr', 'jst', 'judge', 'judt', 'juice', 'juju', 'july', 'jump', 'jumped', 'jumping', 'jumps', 'jumpy', 'jun', 'june', 'junk', 'jus', 'just', 'justice', 'justified', 'justifies', 'justify', 'jyda', 'k', 'k321', 'k8d', 'ka', 'kaam', 'kabhi', 'kahi', 'kam', 'kamse', 'kandy', 'kangaroo', 'kar', 'karaoke', 'karo', 'karta', 'kathleen', 'keep', 'keeper', 'keeping', 'keeps', 'kendal', 'kept', 'key', 'keyboard', 'keyboards', 'keyless', 'keypad', 'keys', 'kharidna', 'khrab', 'ki', 'kick', 'kicked', 'kicker', 'kicking', 'kicks', 'kid', 'kiddie', 'kidding', 'kiddo', 'kiddos', 'kiddy', 'kidproof', 'kids', 'kidsmode', 'kifre', 'kill', 'killed', 'killer', 'killing', 'kind', 'kinda', 'kinde', 'kindel', 'kindels', 'kindle', 'kindle2', 'kindlefire', 'kindlelishous', 'kindles', 'kindlle', 'kindly', 'kinds', 'king', 'kinks', 'kirkland', 'kit', 'kitchen', 'kitchenalso', 'kittens', 'kitty', 'knew', 'knife', 'knitting', 'knock', 'know', 'knowing', 'knowledge', 'knowledgeable', 'known', 'knows', 'kns', 'knw', 'kodi', 'konw', 'korean', 'koreans', 'kot', 'kpt', 'kr', 'krna', 'krta', 'kumar', 'kw', 'l', 'la', 'label', 'labeled', 'labelled', 'labor', 'lack', 'lacking', 'lackluster', 'lacks', 'lady', 'lag', 'lagged', 'laggs', 'laggy', 'lags', 'lambourgini', 'lame', 'laminate', 'lamp', 'lamps', 'land', 'landed', 'landfills', 'landline', 'landscape', 'language', 'languages', 'lantern', 'lanterns', 'lap', 'lapsed', 'laptop', 'laptops', 'large', 'larger', 'lark', 'las', 'laser', 'lasing', 'last', 'lasted', 'lastedn', 'lasting', 'lastlonger', 'lastly', 'laston', 'lasts', 'late', 'lately', 'latency', 'later', 'latest', 'latter', 'laughing', 'laughs', 'launch', 'launched', 'law', 'laws', 'lay', 'laying', 'layout', 'lays', 'lazy', 'lcd', 'lead', 'leading', 'leads', 'leaf', 'leak', 'leakage', 'leaked', 'leaking', 'leaks', 'leaky', 'leaning', 'leapfrog', 'leapster', 'learn', 'learned', 'learner', 'learning', 'learns', 'least', 'leather', 'leave', 'leaves', 'leaving', 'led', 'leds', 'leery', 'left', 'lefthand', 'leg', 'legal', 'legitimacy', 'legitimately', 'legs', 'leisure', 'leisurely', 'lend', 'lenghty', 'length', 'lengthy', 'lenovo', 'lens', 'less', 'lesser', 'lessno', 'lesson', 'lesting', 'let', 'lets', 'letter', 'letterbox', 'lettering', 'letters', 'letting', 'level', 'levelled', 'levels', 'lg', 'lh', 'liars', 'library', 'lid', 'lie', 'lied', 'lies', 'life', 'lifesaver', 'lifesavers', 'lifespan', 'lifetime', 'lifewon', 'lift', 'ligher', 'light', 'lightbulb', 'lightbulbs', 'lightcons1', 'lighted', 'lighter', 'lightest', 'lighting', 'lightings', 'lightly', 'lightness', 'lightning', 'lights', 'lightsaber', 'lightweigh', 'lightweight', 'lighweight', 'ligths', 'lik', 'like', 'liked', 'likely', 'likeni', 'likenit', 'likes', 'liking', 'lil', 'lime', 'limit', 'limitation', 'limitations', 'limited', 'limiting', 'limitless', 'limits', 'lindle', 'line', 'lined', 'lines', 'lineup', 'link', 'linked', 'linking', 'links', 'linsay', 'lion', 'liquid', 'list', 'listed', 'listeda', 'listen', 'listened', 'listener', 'listening', 'listens', 'listing', 'listings', 'listining', 'listner', 'lists', 'lit', 'lite', 'literal', 'literally', 'lithium', 'litrly', 'little', 'littlemore', 'live', 'lived', 'lives', 'living', 'liya', 'll', 'llite', 'lo', 'load', 'loaded', 'loading', 'loadout', 'loads', 'loan', 'loans', 'loathe', 'loathing', 'local', 'locally', 'locate', 'located', 'location', 'locations', 'lock', 'locked', 'locking', 'locks', 'lockscreen', 'lockup', 'log', 'logged', 'logging', 'logitech', 'logo', 'logs', 'lokes', 'lol', 'long', 'longbattery', 'longbut', 'longdon', 'longer', 'longest', 'longevity', 'longish', 'longtime', 'look', 'look4', 'looked', 'looking', 'lookit', 'looks', 'looks4', 'looooooong', 'loooooove', 'loop', 'loose', 'loosing', 'lose', 'loses', 'losing', 'loss', 'lost', 'lot', 'lots', 'loud', 'louder', 'loudly', 'loudness', 'lousy', 'love', 'loveable', 'loved', 'lover', 'lovers', 'loversespecially', 'loversits', 'loves', 'lovin', 'loving', 'lovit', 'low', 'low3', 'lowas', 'lowe', 'lower', 'lowered', 'lowering', 'lowers', 'lowes', 'lowest', 'lows', 'loyal', 'loyalty', 'lr', 'ltd', 'luck', 'luckily', 'lucky', 'lucrative', 'lug', 'lugging', 'lunch', 'lunched', 'lures', 'luv', 'lying', 'lyric', 'lyrics', 'm', 'mac', 'machine', 'macs', 'mad', 'made', 'mafunctioningand', 'mag', 'magazine', 'magazines', 'magenta', 'magic', 'magical', 'magically', 'magnet', 'magnetic', 'magnets', 'magnolia', 'mahendergarh', 'mahesh', 'mahine', 'mahineme', 'mail', 'mailed', 'mailing', 'mails', 'main', 'mainly', 'maintains', 'maintenance', 'major', 'majority', 'make', 'makes', 'making', 'males', 'malfunction', 'malfunctioned', 'malfunctionend', 'malfunctioning', 'malfunctions', 'mall', 'man', 'manage', 'manageable', 'managed', 'management', 'managing', 'maneuver', 'manga', 'manipulating', 'manner', 'mannually', 'manny', 'mans', 'manual', 'manually', 'manufacture', 'manufactured', 'manufacturer', 'manufacturers', 'manufacturing', 'manufators', 'many', 'maps', 'mar', 'marathon', 'march', 'mare', 'marginal', 'marginally', 'margins', 'marino', 'mark', 'markbass', 'marked', 'market', 'marketchild', 'marketed', 'marketing', 'markets', 'marks', 'marley', 'masks', 'massive', 'master', 'mastered', 'masterpiece', 'mat', 'match', 'matched', 'matches', 'matching', 'material', 'materials', 'math', 'mathematically', 'matte', 'matted', 'matter', 'matters', 'mature', 'maturity', 'max', 'maxcell', 'maxell', 'maximum', 'maxmic', 'maxpro1', 'maxsound', 'maxwell', 'maxwells', 'may', 'maybe', 'mayday', 'mb', 'mcuh', 'mdr', 'mdrxb30ex', 'me', 'meals', 'mean', 'meand', 'meaning', 'means', 'meant', 'meantime', 'meanwhile', 'measly', 'measure', 'measured', 'measurement', 'measurements', 'measures', 'mechanical', 'mechanics', 'mechanism', 'media', 'mediam', 'medical', 'mediocre', 'medium', 'meet', 'meeting', 'meetings', 'meets', 'megapixel', 'megapixels', 'mehgi', 'melbourne', 'mellow', 'melodious', 'melt', 'melted', 'member', 'members', 'membership', 'memeber', 'memebr', 'memorize', 'memorized', 'memory', 'memy', 'menards', 'mention', 'mentioned', 'mentioned2', 'mentioning', 'mentions', 'menu', 'menus', 'merchandise', 'mercury', 'mere', 'merely', 'merlot', 'mesh', 'mess', 'message', 'messages', 'messaging', 'messed', 'messenger', 'messes', 'messing', 'met', 'metal', 'metallic', 'metals', 'meter', 'meterial', 'meters', 'metersso', 'method', 'methods', 'metre', 'mg', 'mgr', 'mhine', 'mi', 'mic', 'mic3', 'mice', 'michael', 'mick', 'mickey', 'micro', 'micromax', 'microphone', 'microphones', 'microsd', 'microsoft', 'mics', 'micwithout', 'mid', 'middle', 'mids', 'midsconclusion', 'midway', 'might', 'migrated', 'mike', 'milage', 'mile', 'miles', 'milk', 'mill', 'millennium', 'milliamp', 'millions', 'mimicry', 'min', 'mind', 'mindless', 'minds', 'mine', 'minecraft', 'mines', 'mini', 'miniature', 'minimal', 'minimally', 'minimize', 'minimized', 'minimum', 'minlittle', 'minmium', 'minor', 'mins', 'minsand', 'minsnot', 'minuets', 'minus', 'minuscule', 'minute', 'minutely', 'minutes', 'minutes2', 'minutesi', 'mip', 'miracast', 'miracle', 'miro', 'mirophone', 'mirror', 'mirroring', 'misbehave', 'miserable', 'misguided', 'mislead', 'misleading', 'misled', 'misplaced', 'miss', 'missed', 'misses', 'missing', 'missingfeels', 'mist', 'mistake', 'mistaken', 'mistakes', 'misunderstand', 'misunderstood', 'mith', 'mitranno', 'mived', 'mivi', 'mix', 'mixed', 'mk', 'mm', 'mnths', 'mnts', 'mo', 'mob', 'mobi', 'mobil', 'mobile', 'mobiles', 'mobility', 'modal', 'mode', 'model', 'models', 'modem', 'moderate', 'modern', 'modernized', 'modest', 'modified', 'modify', 'mohantydrs', 'mohit', 'moist', 'moisture', 'molasses', 'mom', 'moment', 'momentum', 'mommy', 'moms', 'mon', 'monday', 'money', 'moneydon', 'moneyjbl', 'moneyseller', 'moneysound', 'moneyworst', 'monitor', 'monitored', 'monitoring', 'monitors', 'monitory', 'mono', 'monoxide', 'monster', 'month', 'monthly', 'months', 'monthsso', 'monthy', 'montj', 'monts', 'moods', 'moral', 'more', 'moreover', 'morning', 'mornings', 'mortar', 'mos', 'most', 'mostly', 'mostof', 'mother', 'mothers', 'moths', 'motion', 'moto', 'motog', 'motor', 'motorcycle', 'motorized', 'motorola', 'mountain', 'mounted', 'mounting', 'mounts', 'mourning', 'mouse', 'mouses', 'mouth', 'mouthpiece', 'move', 'moved', 'movement', 'mover', 'moves', 'movie', 'movies', 'moving', 'mow', 'mpr', 'mrp', 'ms', 'msg', 'mst', 'mt', 'mths', 'mtr', 'mu', 'much', 'mucheveryday', 'muchquality', 'muddy', 'muffled', 'multi', 'multifunctional', 'multimeter', 'multiple', 'multiples', 'multiplication', 'multipurpose', 'multitasking', 'multitude', 'multiuse', 'mumbai', 'munites', 'murphy', 'muscular', 'mushy', 'musi', 'music', 'musical', 'musiccalling', 'musiccons', 'musicdesign', 'musician', 'musicnormal', 'muss', 'must', 'mute', 'muted', 'mutes', 'muti', 'mx', 'my', 'myrtle', 'myself', 'mystery', 'myth', 'n', 'na', 'naam', 'nabi', 'nad', 'nahi', 'nai', 'naka', 'nake', 'name', 'name2', 'namebrands', 'named', 'namely', 'names', 'nana', 'nano', 'nap', 'natural', 'naturally', 'nature', 'navigate', 'navigated', 'navigates', 'navigating', 'navigation', 'nbc', 'ncr', 'nd', 'near', 'nearby', 'nearest', 'nearly', 'neat', 'neatly', 'necessarily', 'necessary', 'neck', 'neckband', 'ned', 'need', 'needed', 'needespecially', 'needful', 'needing', 'needless', 'needs', 'neevr', 'negative', 'negligible', 'negligibly', 'negotiated', 'nehru', 'neighbor', 'neighbors', 'neighbours', 'neil', 'neither', 'neon', 'nephew', 'nephews', 'nerf', 'nervous', 'nest', 'net', 'netflix', 'netting', 'network', 'networking', 'networks', 'never', 'nevertheless', 'new', 'newbie', 'newborn', 'newer', 'newest', 'newly', 'newness', 'newphew', 'news', 'newspaper', 'newspapers', 'newstand', 'next', 'nexus', 'nhi', 'nic', 'nice', 'nicely', 'nicer', 'nicesound', 'nickles', 'niece', 'nieces', 'nifty', 'night', 'nights', 'nightstand', 'nihayati', 'nikon', 'nil', 'nine', 'nit', 'nither', 'nively', 'nividi', 'nkt', 'nmit', 'no', 'noble', 'nobody', 'noice', 'noida', 'noise', 'noisecancelitaion', 'noises', 'noisy', 'noisybut', 'nokia', 'non', 'none', 'nonetheless', 'nonly', 'nonsense', 'nonstop', 'nook', 'nope', 'nor', 'normal', 'normally', 'norms', 'north', 'nose', 'not', 'notch', 'note', 'notepad', 'notes', 'noteven', 'nother', 'nothin', 'nothing', 'notice', 'noticeable', 'noticeably', 'noticed', 'notices', 'notification', 'notifications', 'notifying', 'noting', 'notion', 'notplease', 'nough', 'nov', 'novel', 'novels', 'novelty', 'november', 'novices', 'now', 'nowgive', 'nowhere', 'nowno', 'nprnews', 'nt', 'nterface', 'ntfs', 'nucleus', 'number', 'numbers', 'numerous', 'nursery', 'nursing', 'nut', 'nuts', 'nvidia', 'nyet', 'nyone', 'o', 'o00', 'o01', 'oasis', 'object', 'observation', 'observe', 'observed', 'observing', 'obsessed', 'obsolescence', 'obsolete', 'obstacles', 'obstruction', 'obtain', 'obtrusive', 'obvious', 'obviously', 'occasional', 'occasionally', 'occasions', 'occupied', 'occupy', 'occur', 'occurred', 'occurring', 'occurs', 'ocem', 'oct', 'october', 'od', 'odd', 'odds', 'oem', 'of', 'of10', 'of225', 'ofd', 'off', 'offen', 'offer', 'offered', 'offering', 'offerings', 'offers', 'office', 'offices', 'official', 'offline', 'offs', 'often', 'oftennot', 'ofter', 'oh', 'oily', 'oit', 'ok', 'okay', 'okayish', 'okbattery', 'okbiggest', 'okdurability', 'okgood', 'okie', 'okkk', 'okmaterial', 'oksuggestion', 'ol', 'old', 'older', 'oldest', 'olds', 'ole', 'omg', 'on', 'once', 'one', 'onedrive', 'onei', 'oneplus', 'ones', 'oneside', 'onext', 'oniy', 'online', 'only', 'onlyconclusion', 'onlythey', 'onother', 'onrs', 'ons', 'onsale', 'onscreen', 'onsid', 'onternet', 'onthis', 'onto', 'onwards', 'oo', 'ook', 'oops', 'op', 'open', 'opend', 'opened', 'opener', 'opening', 'openion', 'opens', 'opera', 'operable', 'operate', 'operated', 'operates', 'operating', 'operation', 'operational', 'operations', 'operator', 'opinion', 'opinions', 'oppo', 'opponent', 'opportunities', 'opportunity', 'opposed', 'opposite', 'opt', 'opted', 'optic', 'optical', 'optimal', 'optimized', 'option', 'optional', 'options', 'or', 'orange', 'orangeish', 'oration', 'order', 'orderd', 'ordered', 'ordering', 'orderjust', 'orders', 'ordinary', 'organisation', 'organization', 'organize', 'organized', 'organizing', 'orginal', 'orientation', 'origami', 'original', 'originality', 'originally', 'originals', 'origional', 'os', 'ot', 'otber', 'other', 'other5', 'others', 'otherwise', 'otion', 'ouch', 'ounce', 'ounces', 'our', 'ours', 'ourselves', 'out', 'outage', 'outcome', 'outdated', 'outdone', 'outdoor', 'outdoors', 'outdside', 'outer', 'outgoing', 'outlet', 'outlets', 'outmuch', 'outperformed', 'outperforms', 'output', 'outputs', 'outrageous', 'outsell', 'outside', 'outsife', 'outsound', 'outstanding', 'outwards', 'ove', 'over', 'overal', 'overall', 'overally', 'overcharge', 'overcome', 'overdrive', 'overexposure', 'overhead', 'overheated', 'overheats', 'overhsadowed', 'overloaded', 'overly', 'overnight', 'overpowered', 'overpowering', 'overpriced', 'overrated', 'overriding', 'overseas', 'oversized', 'owe', 'own', 'owned', 'owner', 'owners', 'owning', 'owns', 'ownwords', 'oxidation', 'p', 'p1', 'pace', 'pack', 'package', 'packaged', 'packageproduct', 'packages', 'packaging', 'packagingearbuds', 'packagingsound', 'packed', 'packet', 'packing', 'packs', 'pad', 'padded', 'paddings', 'paddle', 'pads', 'page', 'pages', 'paid', 'pain', 'painand', 'painful', 'paining', 'painless', 'pains', 'pair', 'paired', 'pairing', 'pairs', 'paise', 'panasonic', 'pandora', 'pane', 'panel', 'panic', 'panicked', 'pannier', 'pant', 'pants', 'paon', 'papa', 'paper', 'paperback', 'paperbacks', 'paperweight', 'paperwhite', 'papperwhite', 'par', 'parameter', 'paranoia', 'parcel', 'parched', 'parent', 'parental', 'parents', 'pariah', 'paris', 'park', 'part', 'parted', 'partial', 'partially', 'particular', 'particularly', 'parties', 'partly', 'partner', 'partnerships', 'parts', 'party', 'paso', 'pass', 'passages', 'passcode', 'passed', 'passing', 'password', 'passwords', 'past', 'patents', 'pathetic', 'pathetically', 'patience', 'patient', 'patients', 'patio', 'pattern', 'patterns', 'pause', 'paused', 'pauses', 'pausing', 'paw', 'pawar9011480280', 'pawbo', 'pay', 'paying', 'payment', 'pc', 'pdf', 'pdfs', 'peace', 'peak', 'pealing', 'peasy', 'pedi', 'peeled', 'peeps', 'peer', 'pefect', 'peice', 'pen', 'pencil', 'pencils', 'penny', 'people', 'per', 'percent', 'percentage', 'perception', 'perchues', 'perfect', 'perfected', 'perfection', 'perfectly', 'perfomanceis', 'perfomrancebuit', 'perform', 'performance', 'performancelack', 'performanceoverall', 'performed', 'performer', 'performing', 'performs', 'perhaps', 'period', 'periode', 'periodically', 'periodicals', 'periods', 'peripheral', 'perks', 'permanent', 'permanently', 'permeated', 'permission', 'permissions', 'perpetual', 'perpetually', 'persist', 'persistent', 'persists', 'person', 'personal', 'personalized', 'personally', 'personification', 'persons', 'perspective', 'pertinent', 'pesky', 'pet', 'peter', 'pf', 'pff', 'phablet', 'phenomenal', 'phenomenally', 'philip', 'philips', 'phillips', 'philly', 'philosophy', 'phn', 'phon', 'phone', 'phones', 'phooey', 'photo', 'photographers', 'photos', 'phrase', 'physical', 'physically', 'piano', 'pic', 'pice', 'pich', 'pick', 'picked', 'pickin', 'picking', 'picks', 'pickup', 'pics', 'picsplease', 'pict', 'picture', 'pictured', 'pictures', 'piddle', 'piece', 'pieces', 'piercing', 'piggyback', 'pill', 'pillow', 'pime', 'pin', 'pincode', 'pink', 'pintrest', 'pirime', 'piriod', 'piston', 'pit', 'pitched', 'pitches', 'pitching', 'pity', 'pivot', 'pixel', 'pixelated', 'pixels', 'pizza', 'pkg', 'pl', 'place', 'placed', 'placement', 'placements', 'places', 'placing', 'plagued', 'plain', 'plan', 'plane', 'planets', 'planned', 'planning', 'plans', 'plant', 'plastic', 'plasticky', 'plastics', 'plateform', 'platform', 'platforms', 'plausible', 'play', 'playable', 'playback', 'played', 'player', 'players', 'playing', 'playlist', 'playlists', 'plays', 'playstation', 'playstore', 'playtime2', 'pleanty', 'pleasant', 'pleasantly', 'please', 'pleased', 'pleases', 'pleasing', 'pleasure', 'plenty', 'plex', 'plots', 'ploymer', 'pls', 'pluck', 'plucked', 'plug', 'plugged', 'plugging', 'plugin', 'plugs', 'plunge', 'plus', 'plus6', 'plusit', 'plying', 'plz', 'plzz', 'plzzz', 'pocket', 'pocketbook', 'pocketplease', 'pockets', 'poco', 'pod', 'podcast', 'podcasts', 'pods', 'poer', 'pogo', 'point', 'pointed', 'pointer', 'pointers', 'pointing', 'pointless', 'points', 'pokemon', 'polarity', 'polarized', 'polarizing', 'police', 'policy', 'polish', 'polished', 'polite', 'polycover', 'poof', 'pool', 'poolside', 'poor', 'poorbattery', 'poorer', 'poorest', 'poorif', 'poorjust', 'poorly', 'poornoise', 'pop', 'popped', 'popping', 'pops', 'popular', 'population', 'popup', 'popups', 'por', 'porch', 'port', 'portability', 'portable', 'portablebility', 'portal', 'portion', 'portrate', 'portronics', 'ports', 'pose', 'poses', 'posible', 'position', 'positional', 'positioned', 'positive', 'positives', 'possibilities', 'possibility', 'possible', 'possibly', 'possitive', 'post', 'posted', 'pot', 'potential', 'potranics', 'pottery', 'pouch', 'pouch2', 'poundage', 'pounds', 'pouring', 'power', 'powerbanks', 'powered', 'powerful', 'powergood', 'powerhouse', 'powering', 'powers', 'powerwhite', 'ppi', 'ppl', 'pptx', 'ppx', 'practical', 'practicality', 'practically', 'practice', 'practiced', 'practicing', 'pradesh', 'praise', 'praying', 'prays', 'prblems', 'prblm', 'prdouct', 'pre', 'precepatation', 'precious', 'precise', 'predecessors', 'predict', 'predicted', 'predicting', 'predicts', 'prefect', 'prefer', 'preferable', 'preferably', 'preference', 'preferred', 'prefers', 'preforms', 'preinstalled', 'preloaded', 'premitive', 'premium', 'prepaid', 'preschool', 'preschooler', 'preschoolers', 'prescribe', 'presence', 'present', 'presented', 'presentedon', 'presents', 'press', 'pressed', 'presses', 'pressing', 'pressure', 'presumably', 'presume', 'preteens', 'pretty', 'pretyy', 'prevalent', 'prevent', 'prevents', 'previosly', 'previous', 'previously', 'previyos', 'price', 'pricebetter', 'priced', 'pricedpoor', 'pricegood', 'priceit', 'prices', 'pricesound', 'pricey', 'pricier', 'pricing', 'prick', 'pricy', 'priduct', 'primarily', 'primary', 'prime', 'primetime', 'print', 'printable', 'printed', 'printer', 'printing', 'prints', 'prior', 'priorities', 'prioritize', 'priority', 'privacy', 'private', 'prize', 'prizes', 'pro', 'prob', 'probably', 'probe', 'problem', 'problematic', 'problemit', 'problems', 'problemstrip', 'problm', 'procedure', 'proceeded', 'procell', 'procells', 'procesor', 'process', 'processed', 'processes', 'processing', 'processor', 'processors', 'procrastinate', 'procucts', 'prodct', 'prodect', 'proderures', 'prodeuct', 'produ', 'produce', 'produced', 'produces', 'producing', 'producs', 'product', 'productafter', 'productbut', 'productcons', 'productdon', 'producti', 'production', 'productit', 'productively', 'productivity', 'productmy', 'productno', 'products', 'productsno', 'productsound', 'productwhat', 'prodyct', 'prof', 'professional', 'professionals', 'profile', 'profiles', 'profit', 'profrssional', 'profuct', 'profuse', 'program', 'programmable', 'programmed', 'programmer', 'programmers', 'programming', 'programs', 'progress', 'progressing', 'project', 'projector', 'projects', 'prolonged', 'promise', 'promised', 'promises', 'promising', 'promotion', 'promotional', 'prompted', 'promptly', 'prompts', 'prone', 'prong', 'pronto', 'pronunciate', 'proof', 'prope', 'proper', 'properly', 'properlysound', 'properlystarting', 'property', 'propose', 'proprietary', 'pros', 'prosstylish', 'protect', 'protected', 'protection', 'protections', 'protective', 'protector', 'protectors', 'protects', 'proud', 'prouducts', 'prove', 'proved', 'proven', 'proves', 'provide', 'provided', 'provider', 'providers', 'provides', 'providing', 'proving', 'provision', 'pruchase', 'ps', 'ps4', 'psc', 'pubg', 'pubgthe', 'public', 'publicity', 'published', 'puck', 'puddle', 'puddles', 'puff', 'pull', 'pulled', 'pulling', 'pulse', 'pump', 'pumped', 'pumper', 'pumping', 'pumpkin', 'pumpkins', 'pun', 'punch', 'punches', 'punchy', 'puncture', 'pune', 'purcase', 'purchase', 'purchasecustomer', 'purchased', 'purchasei', 'purchaser', 'purchases', 'purchasi', 'purchasing', 'purchazed', 'purchsed', 'pure', 'purely', 'purple', 'purpose', 'purposes', 'purse', 'purseback', 'purses', 'puse', 'push', 'pushed', 'pushes', 'pushing', 'put', 'putin', 'puts', 'putsy', 'putting', 'puzzle', 'puzzles', 'pvt', 'pw', 'px', 'px80', 'pytm', 'q', 'qa', 'qaulity', 'qc', 'qr', 'qty', 'quad', 'qualcomm', 'qualities', 'qualitiy', 'qualits', 'qualitu', 'quality', 'quality3', 'qualitycons', 'qualityduplicate', 'qualityi', 'qualityis', 'qualitynis', 'qualityplease', 'qualityproduct', 'qualitysound', 'qualitytell', 'qualitythe', 'qualitythough', 'qualitywhile', 'qualitywhomever', 'qualityy', 'qualties', 'qualtiy', 'quantable', 'quantity', 'quantum', 'quarter', 'quatity', 'query', 'querys', 'quest', 'question', 'questionable', 'questioning', 'questions', 'questionso', 'quetion', 'queue', 'quick', 'quicker', 'quickly', 'quiet', 'quieter', 'quirk', 'quirks', 'quirky', 'quit', 'quite', 'quoted', 'qy7', 'r', 'racing', 'rad', 'radio', 'radioactive', 'radios', 'raffle', 'rafio', 'raha', 'railway', 'rain', 'raining', 'rainy', 'raise', 'raised', 'raising', 'rajeeth', 'rakers', 'rally', 'ram', 'ran', 'random', 'randomly', 'rang', 'range', 'rangebut', 'raovac', 'rapair', 'rapid', 'rapidly', 'rapir', 'rapping', 'rare', 'rarely', 'rate', 'rated', 'rather', 'rating', 'ratings', 'ratio', 'ration', 'rattles', 'rav', 'rave', 'raved', 'raw', 'ray', 'rayovac', 'rayovacs', 'rayovak', 'razor', 'rc', 'rca', 'rcase', 're', 'reach', 'reachable', 'reachd', 'reached', 'reaches', 'reaching', 'react', 'reactions', 'read', 'readability', 'readable', 'reader', 'readeri', 'readers', 'readi', 'readily', 'readin', 'reading', 'readings', 'readinstructions', 'reads', 'ready', 'real', 'realise', 'realised', 'realistic', 'reality', 'realize', 'realized', 'realizing', 'reallllllllllllllllllllllllllllllllllllllllllllllly', 'really', 'reaponse', 'rear', 'reason', 'reason1', 'reasonable', 'reasonably', 'reasonplz', 'reasons', 'rebel', 'reboot', 'rebooting', 'reboots', 'recap', 'reccomend', 'reccomended', 'reccommend', 'receipies', 'receipt', 'receipts', 'receive', 'received', 'receivedproduct', 'receiver', 'receivers', 'receiving', 'recent', 'recently', 'recepies', 'reception', 'receptive', 'receptor', 'rechargables', 'recharge', 'rechargeable', 'rechargeables', 'recharged', 'recharger', 'recharges', 'recharging', 'reciept', 'recieptamd', 'recieve', 'recieved', 'reciever', 'recipe', 'recipes', 'recipient', 'recipients', 'recipies', 'recived', 'reclaim', 'reclining', 'recognise', 'recognition', 'recognize', 'recognized', 'recognizing', 'recomand', 'recomend', 'recomended', 'recommend', 'recommendation', 'recommended', 'recommendedbad', 'recommending', 'recommends', 'reconnect', 'reconnect2', 'reconnected', 'reconnecting', 'reconsider', 'record', 'recorder', 'recording', 'recover', 'recoverable', 'recovery', 'recreational', 'rectified', 'rectify', 'recuperating', 'recurring', 'recycled', 'recycling', 'red', 'redesign', 'rediculous', 'redmi', 'redressal', 'reduce', 'reduced', 'reducedvolume', 'reduces', 'reducing', 'reduction', 'redundant', 'reeboot', 'ref', 'refer', 'reference', 'referred', 'referring', 'refined', 'reflect', 'reflection', 'reflects', 'refresh', 'refund', 'refundable', 'refundand', 'refunded', 'refundplease', 'refunds', 'refurbished', 'refurbishment', 'refurnish', 'refuse', 'refused', 'refuses', 'regard', 'regarding', 'regardless', 'regards', 'regardssiddharth', 'register', 'registered', 'registering', 'registration', 'regret', 'regreting', 'regrets', 'regrettable', 'regretted', 'regretting', 'regular', 'regularly', 'rehab', 'reimbursement', 'reinstall', 'reject', 'rejected', 'relable', 'relate', 'related', 'relation', 'relative', 'relatively', 'relatives', 'relax', 'relaxation', 'relaxed', 'relaxing', 'release', 'released', 'releasing', 'reliability', 'reliable', 'reliably', 'relief', 'religious', 'reloaded', 'relocated', 'reluctant', 'reluctantly', 'rely', 'relying', 'remain', 'remainder', 'remained', 'remaining', 'remains', 'remarkable', 'remedial', 'remedy', 'remember', 'remembered', 'remembers', 'remind', 'reminded', 'reminders', 'reminds', 'reminers', 'remite', 'remote', 'remotely', 'remotes', 'remotesnot', 'remove', 'removed', 'removes', 'removing', 'rendered', 'rendering', 'renew', 'renewal', 'reordered', 'reordering', 'reorders', 'rep', 'repair', 'repairable', 'repaired', 'repairing', 'repairs', 'repeat', 'repeated', 'repeatedly', 'repeating', 'repertoire', 'replacable', 'replace', 'replaceable', 'replaced', 'replacement', 'replacements', 'replacemt', 'replaces', 'replacing', 'replica', 'replied', 'replies', 'reply', 'replying', 'repo', 'report', 'reported', 'reporting', 'reports', 'repossess', 'represent', 'representative', 'represents', 'reproduction', 'repurchase', 'repurchasing', 'reputable', 'reputated', 'reputation', 'reputed', 'reqested', 'request', 'requested', 'requesting', 'requests', 'require', 'required', 'requireddidn', 'requirement', 'requirements', 'requires', 'requiring', 'resale', 'reschedule', 'rescue', 'research', 'researched', 'researching', 'resend', 'reservations', 'reset', 'resets', 'resetting', 'residue', 'resion', 'resist', 'resistant', 'resisted', 'resistent', 'resize', 'reslove', 'resold', 'resolution', 'resolve', 'resolved', 'resolvedon', 'resolves', 'resort', 'resource', 'resources', 'respect', 'respective', 'respectively', 'responce', 'respond', 'responded', 'responder', 'responding', 'responds', 'response', 'responses', 'responsibility', 'responsible', 'responsive', 'responsiveness', 'rest', 'restart', 'restarted', 'restarting', 'restarts', 'restaurant', 'resting', 'restored', 'restricted', 'restriction', 'restrictions', 'restrictive', 'restricts', 'result', 'resulted', 'resulting', 'results', 'retail', 'retain', 'retention', 'rethink', 'rethinking', 'retired', 'retirement', 'retract', 'retrieves', 'retrn', 'retun', 'retuned', 'returend', 'returing', 'return', 'returnable', 'returnas', 'returned', 'returning', 'returns', 'reuse', 'reveived', 'revenue', 'revert', 'review', 'reviewed', 'reviewers', 'reviewi', 'reviewing', 'reviews', 'reviewshope', 'reviving', 'revolving', 'rewiews', 'rh', 'rha', 'rhymes', 'rhythm', 'rich', 'ricks', 'rid', 'riddled', 'ride', 'riders', 'rides', 'ridiculous', 'ridiculously', 'riding', 'right', 'rightly', 'rights', 'rightside', 'rigousous', 'ring', 'ringing', 'rings', 'rip', 'ripoff', 'ripped', 'ripping', 'risk', 'risks', 'rite', 'rivals', 'rivasde', 'rlly', 'road', 'roads', 'roadside', 'roakerz', 'roaming', 'robo', 'robot', 'robotic', 'robots', 'robust', 'rock', 'rockclimbing', 'rocker', 'rockers', 'rockerz', 'rocket', 'rocking', 'rocks', 'rokerz', 'roku', 'roku4', 'role', 'roll', 'rolled', 'roof', 'room', 'room3', 'rooms', 'root', 'rooting', 'rost', 'rotate', 'rotates', 'rotating', 'rough', 'roughly', 'round', 'rounds', 'route', 'router', 'routes', 'routine', 'routines', 'row', 'royale', 'royally', 'rps', 'rs', 'rs100', 'rs1700', 'rs500', 'rsy', 'rtd', 'rubber', 'rubberized', 'rubbish', 'rubish', 'rude', 'rugby', 'ruger', 'rugged', 'ruin', 'ruined', 'ruining', 'rules', 'rumble', 'run', 'rundown', 'rung', 'runners', 'running', 'runs', 'rupee', 'rupees', 'rupter', 'ruptured', 'rush', 'rushed', 'rusty', 'rutine', 's', 's00', 's2', 's2ikw', 's2pghw', 's6', 's8', 's9', 'sacrifice', 'sad', 'saddest', 'sadly', 'sadvertisement', 'safe', 'safeguard', 'safeguards', 'safely', 'safer', 'safety', 'sahi', 'sahre', 'said', 'sailed', 'sails', 'sakes', 'sale', 'salebass', 'saleman', 'sales', 'salesgirl', 'salesman', 'salesmen', 'salesperson', 'salve', 'sam', 'samaumg', 'samaung', 'same', 'samepremium', 'sample', 'samples', 'sams', 'samsug', 'samsung', 'samsungbluetooth', 'samsungs', 'san', 'sand', 'sangeet', 'sansung', 'santa', 'saound', 'sat', 'satasified', 'satellite', 'satifaction', 'satified', 'satisfaction', 'satisfactory', 'satisfied', 'satisfiedeasier', 'satisfy', 'satisfying', 'satisify', 'sattisfactory', 'sauce', 'saund', 'save', 'saved', 'saver', 'savers', 'saves', 'saving', 'savings', 'savvy', 'savy', 'saw', 'say', 'saying', 'says', 'sb2', 'sbout', 'scale', 'scam', 'scan', 'scanned', 'scanning', 'scared', 'scary', 'sceen', 'scenario', 'sceptical', 'scew', 'schedule', 'schedules', 'schlage', 'school', 'schooled', 'schooling', 'schools', 'science', 'scissors', 'scope', 'score', 'scores', 'scrabble', 'scrap', 'scrape', 'scratch', 'scratches', 'scratchy', 'screaming', 'screamreal', 'scree', 'screeching', 'screed', 'screen', 'screenis', 'screenless', 'screenlike', 'screens', 'screensaver', 'screenshots', 'screw', 'screwing', 'scroll', 'scrolling', 'scrolls', 'scrutiny', 'scuba', 'sd', 'se', 'sea', 'seal', 'sealed', 'sealer', 'seals', 'seamless', 'seamlessly', 'search', 'searched', 'searches', 'searching', 'season', 'seasons', 'seat', 'seated', 'seatmate', 'seattle', 'sec', 'second', 'secondary', 'secondly', 'seconds', 'secret', 'secrets', 'secs', 'section', 'secure', 'securely', 'security', 'see', 'seee', 'seeing', 'seek', 'seel', 'seem', 'seemed', 'seemingly', 'seems', 'seen', 'seenheiser', 'sees', 'seesm', 'sega', 'segment', 'segments', 'seinheiser', 'seldomly', 'select', 'selected', 'selecting', 'selection', 'selections', 'self', 'sell', 'seller', 'sellers', 'selling', 'sells', 'semester', 'semi', 'send', 'sending', 'sends', 'senheiser', 'senheisers', 'senheisser', 'senior', 'sennheiser', 'sennheiserreturned', 'sennhiser', 'sensation', 'sense', 'sensitive', 'sensitivity', 'sensor', 'sensors', 'sent', 'sentence', 'sep', 'separate', 'separated', 'separately', 'separating', 'sept', 'september', 'serena', 'serial', 'seridon', 'series', 'serious', 'seriously', 'serve', 'served', 'server', 'servere', 'serves', 'service', 'serviced', 'servicemine', 'services', 'servicing', 'servive', 'sesame', 'session', 'sessions', 'set', 'setback', 'sets', 'setting', 'settings', 'settle', 'settled', 'settling', 'setup', 'seven', 'several', 'severe', 'severely', 'sfter', 'sgood', 'shack', 'shade', 'shades', 'shady', 'shake', 'shaking', 'shaky', 'shame', 'shameful', 'shape', 'shaped', 'shapes', 'shapped', 'share', 'shared', 'shares', 'sharge', 'sharing', 'sharp', 'sharpener', 'sharper', 'shattered', 'she', 'shear', 'sheer', 'sheet', 'sheets', 'shelf', 'shell', 'shelled', 'shelling', 'shenzhen', 'shes', 'shield', 'shifted', 'shifting', 'shill', 'shiny', 'ship', 'shipment', 'shipped', 'shipping', 'shirt', 'shirts', 'shit', 'shiva', 'shock', 'shocked', 'shocking', 'shockingly', 'shoe', 'shook', 'shoot', 'shooted', 'shooting', 'shoots', 'shop', 'shopperscons', 'shopping', 'shops', 'short', 'short2', 'shortcomings', 'shorted', 'shorter', 'shortest', 'shortly', 'shot', 'shots', 'should', 'shoulder', 'shoulders', 'shouldn', 'show', 'showed', 'showing', 'shown', 'showroom', 'shows', 'showsplease', 'showtime', 'shriek', 'shrill', 'shrink', 'shrinked', 'shucks', 'shud', 'shure', 'shut', 'shutdown', 'shuts', 'shutting', 'shy', 'si', 'siberia', 'siblings', 'sick', 'sicnce', 'sidded', 'side', 'sideboat', 'sided', 'sideload', 'sides', 'sight', 'sign', 'signal', 'signals', 'signature', 'signed', 'significant', 'significantly', 'signing', 'signs', 'silent', 'silhouette', 'silicon', 'silk', 'silly', 'silver', 'simarly', 'similar', 'similarly', 'simmilar', 'simple', 'simple4', 'simplest', 'simplicity', 'simplified', 'simply', 'simultaneously', 'since', 'sincerely', 'sing', 'singer', 'singers', 'singing', 'single', 'sings', 'sinks', 'sipped', 'sir', 'sircuit', 'siri', 'sirius', 'siriusxm', 'sirus', 'sister', 'sisters', 'sit', 'site', 'sites', 'sits', 'sitting', 'sitty', 'situation', 'situations', 'six', 'size', 'sized', 'sizes', 'sizzling', 'sked', 'skeptical', 'skill', 'skills', 'skin', 'skins', 'skipping', 'skips', 'skull', 'skullcandy', 'sky', 'skype', 'slated', 'slates', 'slave', 'sleek', 'sleeker', 'sleep', 'sleeping', 'slice', 'sliced', 'slick', 'slide', 'slides', 'slideshows', 'slight', 'slightest', 'slightly', 'sligtly', 'slik', 'slim', 'slimmer', 'slimy', 'sling', 'slip', 'slipped', 'slippery', 'slipping', 'slips', 'slooowww', 'sloppy', 'slot', 'slotcons', 'slots', 'slow', 'slower', 'slowest', 'slowing', 'slowly', 'slowness', 'slows', 'slowwwwww', 'slugginess', 'sluggish', 'small', 'smaller', 'smallest', 'smart', 'smart5', 'smarter', 'smarthome', 'smartphone', 'smartthing', 'smartthings', 'smh', 'smile', 'smoke', 'smokin', 'smooth', 'smoothely', 'smoothly', 'sms', 'smudged', 'snag', 'snap', 'snapchat', 'snappy', 'snob', 'snooze', 'snow', 'snuck', 'snug', 'snugly', 'so', 'soap', 'social', 'societyit', 'socked', 'socket', 'socketsss', 'soft', 'software', 'soi', 'sok', 'soke', 'solar', 'sold', 'sole', 'solely', 'solid', 'solidly', 'solitaire', 'solos', 'solution', 'solutions', 'soluton', 'solve', 'solved', 'solves', 'solving', 'some', 'somebody', 'somebtime', 'someday', 'somehow', 'someone', 'someplace', 'something', 'sometime', 'sometimes', 'someways', 'somewhat', 'somewhe', 'somewhere', 'somwthing', 'son', 'sonce', 'song', 'songs', 'sonos', 'sons', 'sony', 'soo', 'soon', 'sooner', 'sooo', 'sooon', 'soooo', 'sooooo', 'soooooo', 'sooooooo', 'sooooooooo', 'soothing', 'sorcerer', 'sore', 'sorely', 'sorry', 'sort', 'sorta', 'sorted', 'sorts', 'soubd', 'sought', 'souls', 'soun', 'sound', 'sound2', 'sound6', 'soundand', 'soundbars', 'soundbluetooth', 'sounded', 'sounding', 'soundits', 'soundlink', 'soundmagic', 'soundmike', 'soundpeaks', 'soundprice', 'sounds', 'soundsound', 'soundtrack', 'soundwell', 'soundworst', 'sount', 'source', 'sources', 'soured', 'south', 'southern', 'southwest', 'sovery', 'sp', 'space', 'spam', 'span', 'spanish', 'spare', 'spares', 'sparingly', 'sparkling', 'spazzed', 'speak', 'speaker', 'speakerphone', 'speakers', 'speakes', 'speaking', 'speakr', 'speaks', 'spears', 'special', 'specialist', 'specially', 'specialty', 'specific', 'specifically', 'specification', 'specifications', 'specify', 'specks', 'specs', 'spectacular', 'spectrum', 'speech', 'speed', 'speedcons', 'speeds', 'speedy', 'speeker', 'speker', 'spell', 'spelling', 'spend', 'spending', 'spends', 'spendy', 'spent', 'spider', 'spike', 'spilled', 'spin', 'spine', 'spite', 'split', 'splitter', 'splurge', 'splurging', 'spoiled', 'spoke', 'spoken', 'spongbob', 'spongy', 'spooky', 'sporadic', 'sport', 'sports', 'sportz', 'spot', 'spotify', 'spots', 'spouce', 'spouse', 'sprained', 'spray', 'sprayed', 'spreads', 'spreadsheets', 'spring', 'springsteen', 'sprint', 'sprinting', 'spund', 'spur', 'sputtering', 'spy', 'squad', 'square', 'squat', 'squeeze', 'squeezed', 'squirly', 'sre', 'st', 'stable', 'stacked', 'staff', 'stage', 'stages', 'stain', 'stair', 'stairs', 'stalls', 'stamped', 'stand', 'standard', 'standardize', 'standards', 'standby', 'standed', 'stander', 'standing', 'standpoint', 'stands', 'star', 'starbucks', 'stare', 'starfall', 'stark', 'starnoise', 'stars', 'start', 'started', 'starter', 'starting', 'startled', 'starts', 'startup', 'state', 'stated', 'statement', 'states', 'static', 'stating', 'station', 'stationary', 'stations', 'stats', 'stature', 'status', 'stay', 'stayed', 'staying', 'stays', 'stead', 'steady', 'steal', 'steam', 'steaming', 'steep', 'steer', 'stellar', 'stems', 'step', 'stepkids', 'stepped', 'stepping', 'steps', 'sterdy', 'stereo', 'stero', 'stetch', 'sth', 'sthings', 'stick', 'sticker', 'stickers', 'sticking', 'sticks', 'stickum', 'sticky', 'stil', 'still', 'stings', 'stink', 'stinks', 'stock', 'stocked', 'stomach', 'stone', 'stood', 'stop', 'stoped', 'stoppd', 'stopped', 'stopper', 'stopping', 'stops', 'storage', 'storagegood', 'store', 'store3', 'stored', 'storenet', 'stores', 'stories', 'storing', 'storming', 'story', 'stow', 'straight', 'straighten', 'straightened', 'straightway', 'strain', 'straining', 'strait', 'strange', 'strap', 'strat', 'straw', 'stream', 'streaming', 'streamlined', 'streams', 'street', 'streets', 'strength', 'stress', 'stretch', 'stretched', 'strike', 'strikes', 'striking', 'string', 'stringer', 'strings', 'strip', 'stripes', 'stripped', 'stroke', 'strong', 'stronger', 'strongly', 'stroyek', 'struck', 'structural', 'structure', 'struggle', 'struggled', 'struggles', 'struggling', 'stuck', 'stucks', 'student', 'students', 'studied', 'study', 'stuff', 'stuffs', 'stumbled', 'stunning', 'stupid', 'sturdier', 'sturdy', 'sturdy3', 'stuttering', 'stutters', 'style', 'stylish', 'stylishvery', 'stylus', 'sub', 'subcategories', 'subject', 'submit', 'submitted', 'subpar', 'subscribe', 'subscribed', 'subscribing', 'subscription', 'subscriptions', 'subsequent', 'subsided', 'subsidize', 'subsidized', 'subsist', 'substandard', 'substantial', 'substantially', 'substitute', 'subtle', 'subwoofer', 'succeed', 'success', 'successfully', 'succkss', 'such', 'suck', 'sucked', 'suckered', 'sucking', 'sucks', 'suction', 'sudden', 'suddenly', 'suffer', 'suffering', 'suffice', 'sufficient', 'suggest', 'suggested', 'suggesting', 'suggestion', 'suggestions', 'suggests', 'suit', 'suitable', 'suite', 'suiting', 'suits', 'summary', 'summer', 'summon', 'sun', 'sunbeam', 'sunday', 'sunglasses', 'sunlight', 'sunny', 'sunshine', 'sup', 'super', 'superb', 'superbowl', 'superfluous', 'superior', 'supermarkets', 'supervise', 'supplement', 'supplementary', 'supplied', 'supplier', 'supplies', 'supply', 'support', 'supported', 'supporting', 'supportive', 'supports', 'suppose', 'supposed', 'supposedly', 'suppoused', 'suppresses', 'suprises', 'sure', 'surely', 'surf', 'surface', 'surfaces', 'surfer', 'surfing', 'surgeon', 'surgery', 'surpass', 'surpassed', 'surpasses', 'surpassing', 'surprise', 'surprised', 'surprises', 'surprising', 'surprisingly', 'surreptitiously', 'surround', 'surrounded', 'surrounding', 'surroundings', 'surveillance', 'survive', 'survived', 'survives', 'sushil', 'suspect', 'sustain', 'sw', 'swap', 'swapped', 'swapping', 'swear', 'sweat', 'sweating', 'sweatproof', 'sweatproofalso', 'sweep', 'sweet', 'swelling', 'swet', 'swipe', 'swipes', 'swiping', 'switch', 'switched', 'switches', 'switching', 'swivel', 'swyping', 'symbol', 'symbols', 'sync', 'synced', 'synchronized', 'syncing', 'syncs', 'syndrome', 'system', 'systems', 't', 't110', 't110bt', 't160', 't2', 't205', 't205bt', 't210', 't8me', 'ta', 'tab', 'tabelt', 'tabet', 'tabla', 'table', 'tabler', 'tables', 'tablet', 'tablets', 'tabletscons', 'tabletyou', 'tabs', 'tackle', 'tackling', 'tacky', 'tactile', 'tad', 'tag', 'tagg', 'tags', 'tailored', 'tak', 'take', 'taken', 'takes', 'taking', 'tale', 'talk', 'talked', 'talkie', 'talking', 'tall', 'taller', 'tampered', 'tangental', 'tangerine', 'tangle', 'tangled', 'tangles', 'tanglin', 'tango', 'tank', 'tap', 'tape', 'taplet', 'tapped', 'tapping', 'taps', 'target', 'targeted', 'tarnished', 'task', 'tasking', 'tasks', 'taste', 'tatti', 'tatty', 'taught', 'tbh', 'tc', 'te', 'tea', 'teach', 'teacher', 'teaches', 'teaching', 'teally', 'team', 'tear', 'tearing', 'tears', 'tech', 'techie', 'techinical', 'technical', 'technically', 'technician', 'techniques', 'technological', 'technologically', 'technology', 'techonology', 'techs', 'techy', 'teen', 'teenage', 'teenager', 'teens', 'teleconference', 'telegram', 'telephone', 'television', 'televisions', 'tell', 'telling', 'tells', 'temp', 'temperature', 'temperatures', 'tempered', 'temporary', 'temps', 'tempted', 'tempter', 'tempting', 'ten', 'tend', 'tendency', 'tends', 'tension', 'term', 'terminal', 'terminals', 'terms', 'terrible', 'terribleness', 'terribly', 'terrific', 'terrified', 'test', 'tested', 'testedeven', 'tester', 'testify', 'testing', 'texas', 'text', 'textbook', 'textbooks', 'texting', 'texts', 'tg', 'tge', 'th', 'tha', 'thair', 'than', 'thank', 'thankfully', 'thanks', 'thanksgiving', 'thankyou', 'thare', 'that', 'thatreally', 'thats', 'thatvwas', 'thay', 'the', 'theach', 'theater', 'theatre', 'thee', 'theft', 'their', 'theirs', 'them', 'themdon', 'themselves', 'themwe', 'then', 'then10', 'thenthe', 'therapy', 'there', 'thereafter', 'therefore', 'thereperformance', 'theres', 'therfore', 'thermometer', 'thermometers', 'thermostat', 'thermostats', 'these', 'theseas', 'theseboth', 'thesei', 'theses', 'theseyou', 'they', 'theyll', 'theyre', 'thia', 'thick', 'thicker', 'thickness', 'thier', 'thin', 'thing', 'things', 'thingssound', 'think', 'thinking', 'thinks', 'thinner', 'thinnest', 'thinnot', 'third', 'thirty', 'this', 'thish', 'thisplease', 'thisthe', 'thks', 'thn', 'tho', 'thomas', 'thorough', 'thoroughly', 'thorugh', 'those', 'though', 'thought', 'thoughtful', 'thoughtnwould', 'thoughts', 'thougt', 'thousand', 'thousands', 'thrash', 'thre', 'thread', 'thredistance', 'three', 'threw', 'thrice', 'thrilled', 'thrones', 'through', 'throughly', 'throughout', 'throw', 'throwing', 'thrown', 'throws', 'thrs', 'thru', 'tht', 'thumb', 'thumbs', 'thump', 'thunderbeats', 'thus', 'thw', 'thwre', 'tic', 'ticket', 'ticking', 'ticks', 'tie', 'tied', 'tier', 'ties', 'tight', 'tighten', 'tightly', 'til', 'till', 'tilt', 'tilted', 'time', 'time1100', 'time2000', 'timed', 'timehe', 'timeit', 'timely', 'timeone', 'timeplease', 'timer', 'timers', 'times', 'timing', 'tin', 'tinier', 'tiniest', 'tinny', 'tiny', 'tip', 'tips', 'tire', 'tired', 'title', 'titles', 'tivo', 'tix', 'to', 'to1', 'to12', 'toast', 'toatally', 'toch', 'today', 'todays', 'toddler', 'toddlers', 'toddlerseasy', 'together', 'toilet', 'tokd', 'told', 'tolerance', 'toll', 'tomorrow', 'tomusic', 'ton', 'tone', 'tonight', 'tons', 'tonserve', 'tony', 'too', 'tooalso', 'took', 'tool', 'tools', 'toomy', 'tooo', 'toooo', 'tooooo', 'toot', 'tooth', 'toothbrush', 'top', 'topic', 'topics', 'tops', 'tore', 'torn', 'torne', 'toshiba', 'toss', 'tossed', 'tosses', 'tot', 'total', 'totally', 'totaly', 'tote', 'totlly', 'totly', 'touch', 'touchable', 'touched', 'touches', 'touching', 'touchpad', 'touchscreen', 'touchy', 'tough', 'tour', 'touted', 'toward', 'towards', 'towels', 'town', 'toy', 'toys', 'tp', 'tplink', 'trace', 'tracfone', 'track', 'trackball', 'tracking', 'tracks', 'trade', 'traded', 'trading', 'traditional', 'traditionalist', 'traffic', 'trail', 'trailer', 'trailers', 'train', 'training', 'trains', 'tranquil', 'transactions', 'transfer', 'transferred', 'transferring', 'transfers', 'transforming', 'transforms', 'transistor', 'transition', 'transits', 'translates', 'translations', 'transmission', 'transmitter', 'transport', 'trap', 'trapped', 'trasfering', 'trash', 'trashing', 'travel', 'travelers', 'traveling', 'travelling', 'travels', 'tread', 'treadmill', 'treat', 'treatment', 'trebble', 'trebel', 'treble', 'trebleno', 'trebles', 'tredle', 'tree', 'trek', 'tremendous', 'trenches', 'trending', 'trial', 'triby', 'trick', 'tricked', 'tricks', 'tricky', 'tridled', 'tried', 'tries', 'trilogies', 'trim', 'trimmer', 'trip', 'triple', 'triplets', 'tripping', 'trips', 'trivia', 'trolld', 'trolls', 'trouble', 'troubles', 'troubleshoot', 'troubleshooting', 'troublesome', 'trouser', 'trousers', 'truck', 'trucks', 'true', 'truely', 'truly', 'trust', 'trustable', 'trusted', 'trusting', 'trusty', 'truth', 'truthfully', 'try', 'tryed', 'trying', 'tryng', 'ts', 'ttry', 'tube', 'tuck', 'tucked', 'tuk', 'tumblr', 'tune', 'tuned', 'tunein', 'tunes', 'tuning', 'tunnel', 'turbo', 'turkeys', 'turn', 'turned', 'turner', 'turning', 'turns', 'tutorial', 'tutorials', 'tv', 'tvs', 'tweak', 'tweaking', 'tweeter', 'tweeting', 'twelve', 'twenty', 'twice', 'twinkles', 'twins', 'twist', 'twisted', 'twisting', 'twitter', 'two', 'ty', 'tying', 'tym', 'type', 'types', 'typical', 'typically', 'typing', 'typos', 'u', 'ubiquitous', 'ue', 'ugh', 'ugly', 'uh', 'ui', 'uk', 'ul', 'ull', 'ultimate', 'ultimately', 'ultra', 'ultraviolet', 'umm', 'un', 'unable', 'unacceptable', 'unanswered', 'unauthorized', 'unavailable', 'unavoidable', 'unaware', 'unbalanced', 'unbearable', 'unbeatable', 'unbecoming', 'unbelievable', 'unbelievably', 'unbox', 'uncertainmusic', 'unchanged', 'uncharging', 'unclear', 'uncomfort', 'uncomfortable', 'uncomfortably', 'unconditional', 'uncontrolled', 'uncortable', 'under', 'undergo', 'undergoing', 'undergraduate', 'undergrond', 'underground', 'understand', 'understandable', 'understandably', 'understandfor', 'understanding', 'understands', 'understatement', 'understood', 'undertrained', 'undervoltage', 'underway', 'underwhelmed', 'underwhelming', 'undue', 'uneasy', 'uneven', 'unexceptionable', 'unexpected', 'unexpectedly', 'unfamiliar', 'unfortunate', 'unfortunately', 'unhappy', 'uniform', 'uniformity', 'unimportant', 'unimpressed', 'unimpressive', 'unintelligible', 'unique', 'unit', 'united', 'units', 'universal', 'universe', 'unknowingly', 'unknown', 'unleashed', 'unless', 'unlike', 'unlikely', 'unlimited', 'unlink', 'unlock', 'unlocking', 'unlucky', 'unneccassary', 'unnecessarily', 'unnecessary', 'unnoticeable', 'unopened', 'unpacking', 'unpadded', 'unpair', 'unpleasant', 'unplug', 'unplugged', 'unplugging', 'unprecedented', 'unpredictable', 'unprepared', 'unprofessional', 'unpure', 'unread', 'unreal', 'unreasonable', 'unrelated', 'unreliable', 'unresponsive', 'unsafe', 'unsatisfactory', 'unsatisfied', 'unsatisfiedhope', 'unschooled', 'unsnaps', 'unsound', 'unsubscribed', 'unsuccessful', 'unsure', 'untextured', 'until', 'untill', 'untrustworthy', 'unusable', 'unused', 'unusual', 'unusually', 'unwanted', 'unwelcoming', 'unwilling', 'unworthy', 'unwrapping', 'up', 'up5', 'upc', 'upcoming', 'upcons', 'update', 'updated', 'updateit', 'updates', 'updating', 'upfront', 'upgrade', 'upgraded', 'upgrades', 'upgrading', 'upload', 'uploaded', 'uploading', 'upon', 'upper', 'ups', 'upset', 'upside', 'upstairs', 'upto', 'upward', 'ur', 'ure', 'urging', 'urs', 'us', 'usability', 'usable', 'usage', 'usane', 'usb', 'usbs', 'usd150', 'use', 'useable', 'useage', 'used', 'usedconsnoise', 'useful', 'usefuland', 'usefule', 'usefulness', 'usefulto', 'usegood', 'useing', 'useless', 'uselesss', 'user', 'users', 'uses', 'usin', 'using', 'usingone', 'usp', 'usuage', 'usual', 'usually', 'ut', 'utf8', 'utility', 'utilize', 'utilizing', 'uttar', 'utter', 'utterly', 'utube', 'uverse', 'ux', 'v', 'v1', 'vac', 'vacation', 'vaccum', 'vacs', 'vacuum', 'vain', 'valid', 'valuable', 'value', 'valume', 'vanished', 'variables', 'variant', 'variations', 'varied', 'varies', 'varieties', 'variety', 'various', 'vary', 'varying', 'vastly', 'vcr', 'vdo', 've', 'veey', 'vegas', 'vehicles', 'vendor', 'vendors', 'ver', 'verbal', 'verbally', 'verdict', 'verge', 'verification', 'verified', 'verify', 'verizon', 'verry', 'versatile', 'versatility', 'version', 'versions', 'versus', 'veru', 'very', 'verybad', 'veryyyy', 'vest', 'veteran', 'via', 'viable', 'vibe', 'viber', 'viberate', 'vibrant', 'vibrate', 'vibrating', 'vibration', 'vibrations', 'video', 'videochat', 'videophone', 'videos', 'vietnam', 'view', 'viewed', 'viewers', 'viewing', 'views', 'viiew', 'village', 'violated', 'virtual', 'virtually', 'virus', 'viruses', 'vis', 'visa', 'visakhapatnam', 'visible', 'vision', 'visit', 'visited', 'visiting', 'visitors', 'visits', 'visual', 'visualize', 'visualizing', 'visually', 'visuals', 'vital', 'vivid', 'vivint', 'vlash', 'vlc', 'vocabulary', 'vocal', 'vocals', 'voice', 'voicecast', 'voicemy', 'voices', 'voila', 'voive', 'volt', 'voltage', 'volts', 'volum', 'volume', 'volumes', 'voyage', 'voyager', 'vpn', 'vry', 'vs', 'vudu', 'vue', 'vw', 'w', 'wa', 'wad', 'wagging', 'wagon', 'wair', 'waist', 'waistband', 'waisted', 'wait', 'waited', 'waiting', 'waittttt', 'wake', 'wakes', 'waking', 'wal', 'walgreen', 'walk', 'walked', 'walkie', 'walking', 'walks', 'wall', 'wallpaper', 'walls', 'walmart', 'wan', 'wand', 'wandering', 'want', 'wanted', 'wantedbest', 'wantedto', 'wanting', 'wants', 'wantwd', 'waranty', 'ware', 'wareanty', 'warenty', 'warking', 'warm', 'warmth', 'warning', 'warnings', 'warped', 'warranties', 'warrantly', 'warranty', 'warrantyi', 'warrantythey', 'warrany', 'warrenty', 'warrienty', 'warrty', 'wars', 'wary', 'was', 'was3nt', 'wasent', 'washed', 'washing', 'washington', 'wasn', 'wasnt', 'wast', 'wastage', 'waste', 'wasted', 'wasteful', 'wasters', 'wastey', 'wasteyour', 'wasting', 'wasy', 'wat', 'watch', 'watched', 'watcher', 'watches', 'watching', 'wate', 'water', 'watered', 'watering', 'waterpik', 'waterproof', 'wath', 'watsapp', 'watson', 'watste', 'wattage', 'watts', 'wave', 'way', 'ways', 'wayyyyy', 'we', 'weak', 'weakened', 'weaknesses', 'wealth', 'wear', 'wearing', 'wears', 'weary', 'weast', 'weather', 'weatherman', 'web', 'webroot', 'website', 'wedding', 'wedsite', 'wee', 'week', 'weekend', 'weekends', 'weekly', 'weeks', 'weekscompletely', 'weels', 'wegmans', 'weigh', 'weighing', 'weighs', 'weight', 'weighted', 'weightless', 'weightsmall', 'weird', 'weirddont', 'weirded', 'weirdly', 'welcome', 'welcomed', 'well', 'wellbut', 'wellnot', 'wellworst', 'wemo', 'went', 'were', 'weren', 'werent', 'west', 'western', 'wet', 'wfi', 'wgat', 'what', 'whatever', 'whats', 'whatsapp', 'whatsoever', 'whe', 'wheel', 'wheeler', 'when', 'whenever', 'where', 'whereas', 'wherever', 'whether', 'which', 'whichever', 'while', 'whim', 'whispersync', 'whistles', 'whit', 'white', 'whitepaper', 'whites', 'who', 'whoever', 'whole', 'wholly', 'whom', 'whooping', 'whose', 'whther', 'why', 'wi', 'wicking', 'wide', 'wider', 'widst', 'width', 'wife', 'wifi', 'wiggle', 'wiggles', 'wii', 'wikipedia', 'will', 'williams', 'willing', 'willingness', 'willlistening', 'win', 'wind', 'window', 'windows', 'wine', 'wink', 'winner', 'wins', 'winter', 'wire', 'wired', 'wireless', 'wirelessly', 'wires', 'wireshort', 'wiring', 'wirst', 'wisdom', 'wise', 'wisely', 'wish', 'wished', 'wishes', 'wishing', 'wist', 'witbin', 'witching', 'with', 'withdraw', 'within', 'withing', 'withinn', 'without', 'withstand', 'withstands', 'witnessed', 'witnessing', 'wiz', 'wizard', 'wned', 'woke', 'woman', 'won', 'wonder', 'wondered', 'wonderful', 'wonderfully', 'wondering', 'wonders', 'wonderu', 'wonky', 'wont', 'woo', 'wood', 'word', 'words', 'wore', 'worest', 'work', 'worked', 'workers', 'workin', 'working', 'working3', 'workingand', 'workingbattery', 'workingbut', 'workingi', 'workingit', 'workingjust', 'workingloss', 'workmanship', 'workng', 'workout', 'workoutamazon', 'workouts', 'works', 'worksheets', 'worksthis', 'workused', 'world', 'worlds', 'worldwide', 'worm', 'worms', 'worn', 'worouts', 'worried', 'worries', 'worry', 'worrying', 'worse', 'worst', 'worstbuild', 'worstdurability', 'worstest', 'worsti', 'worstone', 'worstonly', 'worth', 'worthboxing', 'worthful', 'worthiness', 'worthless', 'worthwhile', 'worthy', 'worthybass', 'worthyguys', 'worts', 'woth', 'woudn', 'woudnt', 'would', 'wouldn', 'wouldnt', 'wound', 'wow', 'wowwee', 'wqs', 'wrap', 'wrapped', 'wrapper', 'wrapping', 'wreaths', 'wrecked', 'wretched', 'wrist', 'wrists', 'write', 'writes', 'writing', 'written', 'wrk', 'wrking', 'wrong', 'wrost', 'wrote', 'wrt', 'wtf', 'wth', 'wwan', 'www', 'x', 'x2', 'x3', 'xa1', 'xb', 'xb30', 'xb50ap', 'xb55', 'xbox', 'xbox1', 'xfat', 'xfinity', 'xiomi', 'xl200', 'xls', 'xlsx', 'xm', 'xmas', 'xmass', 'xouple', 'xp', 'xpressbess', 'xx', 'y', 'y9', 'ya', 'yaaaar', 'yahoo', 'yar', 'yard', 'ye', 'yeah', 'year', 'yearbuttons', 'yeari', 'years', 'yeh', 'yell', 'yelling', 'yellow', 'yellowish', 'yells', 'yep', 'yer', 'yes', 'yesterday', 'yet', 'yetsongs', 'yiu', 'yo', 'yokod', 'york', 'you', 'youand', 'youll', 'young', 'younger', 'youngest', 'youngster', 'youngsters', 'your', 'yours', 'yourself', 'youth', 'youtube', 'yr', 'yrs', 'yuck', 'z', 'zenfone', 'zero', 'zero4', 'zigbee', 'zippo', 'zippy', 'zone', 'zoo', 'zoom', 'zooms']\n"
     ]
    }
   ],
   "source": [
    "print(CV.get_feature_names())"
   ]
  }
 ],
 "metadata": {
  "kernelspec": {
   "display_name": "Python 3",
   "language": "python",
   "name": "python3"
  },
  "language_info": {
   "codemirror_mode": {
    "name": "ipython",
    "version": 3
   },
   "file_extension": ".py",
   "mimetype": "text/x-python",
   "name": "python",
   "nbconvert_exporter": "python",
   "pygments_lexer": "ipython3",
   "version": "3.7.9"
  }
 },
 "nbformat": 4,
 "nbformat_minor": 4
}
