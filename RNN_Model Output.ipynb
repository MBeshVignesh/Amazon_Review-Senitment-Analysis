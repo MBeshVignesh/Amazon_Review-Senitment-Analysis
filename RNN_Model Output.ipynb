{
 "cells": [
  {
   "cell_type": "code",
   "execution_count": 1,
   "metadata": {},
   "outputs": [],
   "source": [
    "import sys\n",
    "sys.path.append('C:\\\\Users\\\\Besh Vignesh\\\\anaconda3\\\\envs\\\\dl\\\\Lib\\\\site-packages')"
   ]
  },
  {
   "cell_type": "code",
   "execution_count": 87,
   "metadata": {},
   "outputs": [],
   "source": [
    "from sklearn.model_selection import train_test_split, GridSearchCV\n",
    "from sklearn.feature_extraction.text import CountVectorizer, TfidfVectorizer\n",
    "from sklearn.naive_bayes import BernoulliNB, MultinomialNB\n",
    "from sklearn.linear_model import LogisticRegression\n",
    "from sklearn.tree import DecisionTreeClassifier\n",
    "from sklearn.ensemble import RandomForestClassifier\n",
    "from sklearn import metrics\n",
    "from sklearn.metrics import roc_auc_score, accuracy_score\n",
    "from sklearn.pipeline import Pipeline\n",
    "from wordcloud import WordCloud\n",
    "\n",
    "import re\n",
    "import nltk\n",
    "from nltk.corpus import stopwords \n",
    "from nltk.stem.porter import PorterStemmer\n",
    "from nltk.stem import SnowballStemmer, WordNetLemmatizer\n",
    "from nltk import sent_tokenize, word_tokenize, pos_tag"
   ]
  },
  {
   "cell_type": "code",
   "execution_count": 88,
   "metadata": {},
   "outputs": [],
   "source": [
    "from tensorflow.keras.models import load_model\n",
    "from tensorflow.keras.layers import Embedding\n",
    "from tensorflow.keras.preprocessing.sequence import pad_sequences\n",
    "from tensorflow.keras.models import Sequential\n",
    "from tensorflow.keras.preprocessing.text import one_hot\n",
    "from tensorflow.keras.layers import LSTM\n",
    "from tensorflow.keras.layers import Dense\n",
    "from tensorflow.keras.layers import Bidirectional\n",
    "from tensorflow.keras.layers import Dropout"
   ]
  },
  {
   "cell_type": "code",
   "execution_count": 89,
   "metadata": {},
   "outputs": [],
   "source": [
    "model = load_model('picklefile/RNN_Model.h5')"
   ]
  },
  {
   "cell_type": "code",
   "execution_count": 129,
   "metadata": {},
   "outputs": [],
   "source": [
    "text_to_predict =\"\"\"Although sound quality is good, but then whats a purpose of buying a wireless earphone when its controls (buttons) doesn't work. I bought this product withing a week controls where stop responding cant switch on or do anything.replaced it got refund bought another piece different color that worn out in a day.Both the time seller was \" Appario Retail Private Ltd\". So i leave it to your wisdom whether you want to buy this or not. I will never buy this brand at least from this platform.\"\"\""
   ]
  },
  {
   "cell_type": "code",
   "execution_count": 130,
   "metadata": {},
   "outputs": [
    {
     "name": "stdout",
     "output_type": "stream",
     "text": [
      "Although sound quality is good, but then whats a purpose of buying a wireless earphone when its controls (buttons) doesn't work. I bought this product withing a week controls where stop responding cant switch on or do anything.replaced it got refund bought another piece different color that worn out in a day.Both the time seller was \" Appario Retail Private Ltd\". So i leave it to your wisdom whether you want to buy this or not. I will never buy this brand at least from this platform.\n"
     ]
    }
   ],
   "source": [
    "print(text_to_predict)"
   ]
  },
  {
   "cell_type": "code",
   "execution_count": 131,
   "metadata": {},
   "outputs": [],
   "source": [
    "ps = PorterStemmer()\n",
    "corpus1 = []\n",
    "review_to_predict = re.sub('[^a-zA-Z]', ' ', text_to_predict)\n",
    "review_to_predict = review_to_predict.lower()\n",
    "review_to_predict = review_to_predict.split() \n",
    "Lemmatizer = WordNetLemmatizer() \n",
    "review_to_predict = [Lemmatizer.lemmatize(w) for w in review_to_predict]\n",
    "review_to_predict = [ps.stem(word) for word in review_to_predict if not word in stopwords.words('english')]\n",
    "review_to_predict = ' '.join(review_to_predict)\n",
    "corpus1.append(review_to_predict)"
   ]
  },
  {
   "cell_type": "code",
   "execution_count": 132,
   "metadata": {},
   "outputs": [
    {
     "name": "stdout",
     "output_type": "stream",
     "text": [
      "488\n"
     ]
    }
   ],
   "source": [
    "print(len(text_to_predict))"
   ]
  },
  {
   "cell_type": "code",
   "execution_count": 133,
   "metadata": {},
   "outputs": [],
   "source": [
    "if len(text_to_predict)<500 and len(text_to_predict)>200:\n",
    "    voc_size1=500\n",
    "elif len(text_to_predict)<200:\n",
    "    voc_size1=200\n",
    "elif len(text_to_predict)>500:\n",
    "    voc_size1=1000\n",
    "onehot_repr1=[one_hot(words,voc_size1)for words in corpus1]"
   ]
  },
  {
   "cell_type": "code",
   "execution_count": 134,
   "metadata": {},
   "outputs": [],
   "source": [
    "sent_length1=20\n",
    "embedded_docs1=pad_sequences(onehot_repr1,padding='pre',maxlen=sent_length1)"
   ]
  },
  {
   "cell_type": "code",
   "execution_count": 135,
   "metadata": {},
   "outputs": [
    {
     "data": {
      "text/plain": [
       "array([[1]])"
      ]
     },
     "execution_count": 135,
     "metadata": {},
     "output_type": "execute_result"
    }
   ],
   "source": [
    "prediction1 = model.predict_classes(embedded_docs1)\n",
    "prediction1"
   ]
  },
  {
   "cell_type": "code",
   "execution_count": 136,
   "metadata": {},
   "outputs": [
    {
     "name": "stdout",
     "output_type": "stream",
     "text": [
      "Thank You for your feedback!😊 \n"
     ]
    }
   ],
   "source": [
    "if prediction1 ==1:\n",
    "    print(\"Thank You for your feedback!😊 \")\n",
    "else:\n",
    "    print(\"Sorry for the inconvenience. Our support staff will contact you and sort out the problem.\")"
   ]
  },
  {
   "cell_type": "code",
   "execution_count": null,
   "metadata": {},
   "outputs": [],
   "source": []
  }
 ],
 "metadata": {
  "kernelspec": {
   "display_name": "Python 3",
   "language": "python",
   "name": "python3"
  },
  "language_info": {
   "codemirror_mode": {
    "name": "ipython",
    "version": 3
   },
   "file_extension": ".py",
   "mimetype": "text/x-python",
   "name": "python",
   "nbconvert_exporter": "python",
   "pygments_lexer": "ipython3",
   "version": "3.7.9"
  }
 },
 "nbformat": 4,
 "nbformat_minor": 4
}
